{
 "cells": [
  {
   "cell_type": "markdown",
   "id": "modified-designation",
   "metadata": {},
   "source": [
    "### Import your libraries"
   ]
  },
  {
   "cell_type": "code",
   "execution_count": 1,
   "id": "offensive-lesbian",
   "metadata": {},
   "outputs": [],
   "source": [
    "# Import Libraries\n",
    "import pandas as pd \n",
    "import numpy as np\n",
    "import seaborn as sns\n",
    "import plotly.express as px\n",
    "import matplotlib.pyplot as plt\n",
    "import warnings\n",
    "warnings.filterwarnings(\"ignore\")"
   ]
  },
  {
   "cell_type": "markdown",
   "id": "israeli-dialogue",
   "metadata": {},
   "source": [
    "### Load your dataset"
   ]
  },
  {
   "cell_type": "code",
   "execution_count": 2,
   "id": "typical-wrong",
   "metadata": {},
   "outputs": [],
   "source": [
    "df = pd.read_csv('HR_Missing_Values.csv')\n"
   ]
  },
  {
   "cell_type": "markdown",
   "id": "federal-television",
   "metadata": {},
   "source": [
    "### Explore your data \n",
    "\n",
    "* First 5 recods.\n",
    "* Last 5 records. \n",
    "* Check data types.\n",
    "* Show statistical summary.\n",
    "* Is there any missing values?\n",
    "* Applay two more data analysis from your choose."
   ]
  },
  {
   "cell_type": "code",
   "execution_count": 3,
   "id": "experienced-democrat",
   "metadata": {},
   "outputs": [
    {
     "data": {
      "text/html": [
       "<div>\n",
       "<style scoped>\n",
       "    .dataframe tbody tr th:only-of-type {\n",
       "        vertical-align: middle;\n",
       "    }\n",
       "\n",
       "    .dataframe tbody tr th {\n",
       "        vertical-align: top;\n",
       "    }\n",
       "\n",
       "    .dataframe thead th {\n",
       "        text-align: right;\n",
       "    }\n",
       "</style>\n",
       "<table border=\"1\" class=\"dataframe\">\n",
       "  <thead>\n",
       "    <tr style=\"text-align: right;\">\n",
       "      <th></th>\n",
       "      <th>Employee_Name</th>\n",
       "      <th>EmpID</th>\n",
       "      <th>Salary</th>\n",
       "      <th>PositionID</th>\n",
       "      <th>Position</th>\n",
       "      <th>DOB</th>\n",
       "      <th>Sex</th>\n",
       "      <th>MaritalDesc</th>\n",
       "      <th>RaceDesc</th>\n",
       "      <th>DateofHire</th>\n",
       "      <th>DateofTermination</th>\n",
       "      <th>Department</th>\n",
       "      <th>ManagerName</th>\n",
       "      <th>ManagerID</th>\n",
       "      <th>RecruitmentSource</th>\n",
       "      <th>Absences</th>\n",
       "    </tr>\n",
       "  </thead>\n",
       "  <tbody>\n",
       "    <tr>\n",
       "      <th>0</th>\n",
       "      <td>Adinolfi, Wilson  K</td>\n",
       "      <td>10026</td>\n",
       "      <td>62506.0</td>\n",
       "      <td>19</td>\n",
       "      <td>Production Technician I</td>\n",
       "      <td>07/10/83</td>\n",
       "      <td>M</td>\n",
       "      <td>Single</td>\n",
       "      <td>White</td>\n",
       "      <td>7/5/2011</td>\n",
       "      <td>NaN</td>\n",
       "      <td>Production</td>\n",
       "      <td>Michael Albert</td>\n",
       "      <td>22.0</td>\n",
       "      <td>LinkedIn</td>\n",
       "      <td>1.0</td>\n",
       "    </tr>\n",
       "    <tr>\n",
       "      <th>1</th>\n",
       "      <td>Ait Sidi, Karthikeyan</td>\n",
       "      <td>10084</td>\n",
       "      <td>104437.0</td>\n",
       "      <td>27</td>\n",
       "      <td>Sr. DBA</td>\n",
       "      <td>05/05/75</td>\n",
       "      <td>M</td>\n",
       "      <td>Married</td>\n",
       "      <td>White</td>\n",
       "      <td>3/30/2015</td>\n",
       "      <td>6/16/2016</td>\n",
       "      <td>IT/IS</td>\n",
       "      <td>Simon Roup</td>\n",
       "      <td>4.0</td>\n",
       "      <td>Indeed</td>\n",
       "      <td>17.0</td>\n",
       "    </tr>\n",
       "    <tr>\n",
       "      <th>2</th>\n",
       "      <td>Akinkuolie, Sarah</td>\n",
       "      <td>10196</td>\n",
       "      <td>64955.0</td>\n",
       "      <td>20</td>\n",
       "      <td>Production Technician II</td>\n",
       "      <td>09/19/88</td>\n",
       "      <td>F</td>\n",
       "      <td>Married</td>\n",
       "      <td>White</td>\n",
       "      <td>7/5/2011</td>\n",
       "      <td>9/24/2012</td>\n",
       "      <td>Production</td>\n",
       "      <td>Kissy Sullivan</td>\n",
       "      <td>20.0</td>\n",
       "      <td>LinkedIn</td>\n",
       "      <td>3.0</td>\n",
       "    </tr>\n",
       "    <tr>\n",
       "      <th>3</th>\n",
       "      <td>Alagbe,Trina</td>\n",
       "      <td>10088</td>\n",
       "      <td>64991.0</td>\n",
       "      <td>19</td>\n",
       "      <td>Production Technician I</td>\n",
       "      <td>NaN</td>\n",
       "      <td>F</td>\n",
       "      <td>Married</td>\n",
       "      <td>White</td>\n",
       "      <td>1/7/2008</td>\n",
       "      <td>NaN</td>\n",
       "      <td>Production</td>\n",
       "      <td>Elijiah Gray</td>\n",
       "      <td>16.0</td>\n",
       "      <td>Indeed</td>\n",
       "      <td>15.0</td>\n",
       "    </tr>\n",
       "    <tr>\n",
       "      <th>4</th>\n",
       "      <td>NaN</td>\n",
       "      <td>10069</td>\n",
       "      <td>50825.0</td>\n",
       "      <td>19</td>\n",
       "      <td>Production Technician I</td>\n",
       "      <td>09/08/89</td>\n",
       "      <td>F</td>\n",
       "      <td>Divorced</td>\n",
       "      <td>White</td>\n",
       "      <td>7/11/2011</td>\n",
       "      <td>9/6/2016</td>\n",
       "      <td>Production</td>\n",
       "      <td>Webster Butler</td>\n",
       "      <td>39.0</td>\n",
       "      <td>Google Search</td>\n",
       "      <td>2.0</td>\n",
       "    </tr>\n",
       "  </tbody>\n",
       "</table>\n",
       "</div>"
      ],
      "text/plain": [
       "              Employee_Name  EmpID    Salary  PositionID  \\\n",
       "0       Adinolfi, Wilson  K  10026   62506.0          19   \n",
       "1  Ait Sidi, Karthikeyan     10084  104437.0          27   \n",
       "2         Akinkuolie, Sarah  10196   64955.0          20   \n",
       "3              Alagbe,Trina  10088   64991.0          19   \n",
       "4                       NaN  10069   50825.0          19   \n",
       "\n",
       "                   Position       DOB Sex MaritalDesc RaceDesc DateofHire  \\\n",
       "0   Production Technician I  07/10/83  M       Single    White   7/5/2011   \n",
       "1                   Sr. DBA  05/05/75  M      Married    White  3/30/2015   \n",
       "2  Production Technician II  09/19/88   F     Married    White   7/5/2011   \n",
       "3   Production Technician I       NaN   F     Married    White   1/7/2008   \n",
       "4   Production Technician I  09/08/89   F    Divorced    White  7/11/2011   \n",
       "\n",
       "  DateofTermination         Department     ManagerName  ManagerID  \\\n",
       "0               NaN  Production         Michael Albert       22.0   \n",
       "1         6/16/2016              IT/IS      Simon Roup        4.0   \n",
       "2         9/24/2012  Production         Kissy Sullivan       20.0   \n",
       "3               NaN  Production           Elijiah Gray       16.0   \n",
       "4          9/6/2016  Production         Webster Butler       39.0   \n",
       "\n",
       "  RecruitmentSource  Absences  \n",
       "0          LinkedIn       1.0  \n",
       "1            Indeed      17.0  \n",
       "2          LinkedIn       3.0  \n",
       "3            Indeed      15.0  \n",
       "4     Google Search       2.0  "
      ]
     },
     "execution_count": 3,
     "metadata": {},
     "output_type": "execute_result"
    }
   ],
   "source": [
    "df.head(5) #First 5 recods"
   ]
  },
  {
   "cell_type": "code",
   "execution_count": 17,
   "id": "db50d789",
   "metadata": {},
   "outputs": [
    {
     "data": {
      "text/plain": [
       "(311, 16)"
      ]
     },
     "execution_count": 17,
     "metadata": {},
     "output_type": "execute_result"
    }
   ],
   "source": [
    "df.shape"
   ]
  },
  {
   "cell_type": "code",
   "execution_count": 4,
   "id": "missing-relevance",
   "metadata": {},
   "outputs": [
    {
     "data": {
      "text/html": [
       "<div>\n",
       "<style scoped>\n",
       "    .dataframe tbody tr th:only-of-type {\n",
       "        vertical-align: middle;\n",
       "    }\n",
       "\n",
       "    .dataframe tbody tr th {\n",
       "        vertical-align: top;\n",
       "    }\n",
       "\n",
       "    .dataframe thead th {\n",
       "        text-align: right;\n",
       "    }\n",
       "</style>\n",
       "<table border=\"1\" class=\"dataframe\">\n",
       "  <thead>\n",
       "    <tr style=\"text-align: right;\">\n",
       "      <th></th>\n",
       "      <th>Employee_Name</th>\n",
       "      <th>EmpID</th>\n",
       "      <th>Salary</th>\n",
       "      <th>PositionID</th>\n",
       "      <th>Position</th>\n",
       "      <th>DOB</th>\n",
       "      <th>Sex</th>\n",
       "      <th>MaritalDesc</th>\n",
       "      <th>RaceDesc</th>\n",
       "      <th>DateofHire</th>\n",
       "      <th>DateofTermination</th>\n",
       "      <th>Department</th>\n",
       "      <th>ManagerName</th>\n",
       "      <th>ManagerID</th>\n",
       "      <th>RecruitmentSource</th>\n",
       "      <th>Absences</th>\n",
       "    </tr>\n",
       "  </thead>\n",
       "  <tbody>\n",
       "    <tr>\n",
       "      <th>306</th>\n",
       "      <td>Woodson, Jason</td>\n",
       "      <td>10135</td>\n",
       "      <td>65893.0</td>\n",
       "      <td>20</td>\n",
       "      <td>Production Technician II</td>\n",
       "      <td>05/11/85</td>\n",
       "      <td>M</td>\n",
       "      <td>Single</td>\n",
       "      <td>White</td>\n",
       "      <td>7/7/2014</td>\n",
       "      <td>NaN</td>\n",
       "      <td>Production</td>\n",
       "      <td>Kissy Sullivan</td>\n",
       "      <td>20.0</td>\n",
       "      <td>LinkedIn</td>\n",
       "      <td>13.0</td>\n",
       "    </tr>\n",
       "    <tr>\n",
       "      <th>307</th>\n",
       "      <td>Ybarra, Catherine</td>\n",
       "      <td>10301</td>\n",
       "      <td>48513.0</td>\n",
       "      <td>19</td>\n",
       "      <td>Production Technician I</td>\n",
       "      <td>NaN</td>\n",
       "      <td>F</td>\n",
       "      <td>Single</td>\n",
       "      <td>Asian</td>\n",
       "      <td>9/2/2008</td>\n",
       "      <td>9/29/2015</td>\n",
       "      <td>Production</td>\n",
       "      <td>Brannon Miller</td>\n",
       "      <td>12.0</td>\n",
       "      <td>Google Search</td>\n",
       "      <td>4.0</td>\n",
       "    </tr>\n",
       "    <tr>\n",
       "      <th>308</th>\n",
       "      <td>NaN</td>\n",
       "      <td>10010</td>\n",
       "      <td>220450.0</td>\n",
       "      <td>6</td>\n",
       "      <td>CIO</td>\n",
       "      <td>NaN</td>\n",
       "      <td>F</td>\n",
       "      <td>Single</td>\n",
       "      <td>White</td>\n",
       "      <td>4/10/2010</td>\n",
       "      <td>NaN</td>\n",
       "      <td>IT/IS</td>\n",
       "      <td>Janet King</td>\n",
       "      <td>2.0</td>\n",
       "      <td>Employee Referral</td>\n",
       "      <td>16.0</td>\n",
       "    </tr>\n",
       "    <tr>\n",
       "      <th>309</th>\n",
       "      <td>Zhou, Julia</td>\n",
       "      <td>10043</td>\n",
       "      <td>89292.0</td>\n",
       "      <td>9</td>\n",
       "      <td>Data Analyst</td>\n",
       "      <td>02/24/79</td>\n",
       "      <td>F</td>\n",
       "      <td>Single</td>\n",
       "      <td>White</td>\n",
       "      <td>3/30/2015</td>\n",
       "      <td>NaN</td>\n",
       "      <td>IT/IS</td>\n",
       "      <td>Simon Roup</td>\n",
       "      <td>4.0</td>\n",
       "      <td>Employee Referral</td>\n",
       "      <td>NaN</td>\n",
       "    </tr>\n",
       "    <tr>\n",
       "      <th>310</th>\n",
       "      <td>NaN</td>\n",
       "      <td>10271</td>\n",
       "      <td>45046.0</td>\n",
       "      <td>19</td>\n",
       "      <td>Production Technician I</td>\n",
       "      <td>08/17/78</td>\n",
       "      <td>F</td>\n",
       "      <td>Widowed</td>\n",
       "      <td>Asian</td>\n",
       "      <td>9/29/2014</td>\n",
       "      <td>NaN</td>\n",
       "      <td>Production</td>\n",
       "      <td>David Stanley</td>\n",
       "      <td>14.0</td>\n",
       "      <td>LinkedIn</td>\n",
       "      <td>2.0</td>\n",
       "    </tr>\n",
       "  </tbody>\n",
       "</table>\n",
       "</div>"
      ],
      "text/plain": [
       "          Employee_Name  EmpID    Salary  PositionID  \\\n",
       "306      Woodson, Jason  10135   65893.0          20   \n",
       "307  Ybarra, Catherine   10301   48513.0          19   \n",
       "308                 NaN  10010  220450.0           6   \n",
       "309         Zhou, Julia  10043   89292.0           9   \n",
       "310                 NaN  10271   45046.0          19   \n",
       "\n",
       "                     Position       DOB Sex MaritalDesc RaceDesc DateofHire  \\\n",
       "306  Production Technician II  05/11/85  M       Single    White   7/7/2014   \n",
       "307   Production Technician I       NaN   F      Single    Asian   9/2/2008   \n",
       "308                       CIO       NaN   F      Single    White  4/10/2010   \n",
       "309              Data Analyst  02/24/79   F      Single    White  3/30/2015   \n",
       "310   Production Technician I  08/17/78   F     Widowed    Asian  9/29/2014   \n",
       "\n",
       "    DateofTermination         Department     ManagerName  ManagerID  \\\n",
       "306               NaN  Production         Kissy Sullivan       20.0   \n",
       "307         9/29/2015  Production         Brannon Miller       12.0   \n",
       "308               NaN              IT/IS      Janet King        2.0   \n",
       "309               NaN              IT/IS      Simon Roup        4.0   \n",
       "310               NaN  Production          David Stanley       14.0   \n",
       "\n",
       "     RecruitmentSource  Absences  \n",
       "306           LinkedIn      13.0  \n",
       "307      Google Search       4.0  \n",
       "308  Employee Referral      16.0  \n",
       "309  Employee Referral       NaN  \n",
       "310           LinkedIn       2.0  "
      ]
     },
     "execution_count": 4,
     "metadata": {},
     "output_type": "execute_result"
    }
   ],
   "source": [
    "df.tail() #Last 5 records"
   ]
  },
  {
   "cell_type": "code",
   "execution_count": 5,
   "id": "nuclear-checkout",
   "metadata": {},
   "outputs": [
    {
     "data": {
      "text/plain": [
       "Employee_Name         object\n",
       "EmpID                  int64\n",
       "Salary               float64\n",
       "PositionID             int64\n",
       "Position              object\n",
       "DOB                   object\n",
       "Sex                   object\n",
       "MaritalDesc           object\n",
       "RaceDesc              object\n",
       "DateofHire            object\n",
       "DateofTermination     object\n",
       "Department            object\n",
       "ManagerName           object\n",
       "ManagerID            float64\n",
       "RecruitmentSource     object\n",
       "Absences             float64\n",
       "dtype: object"
      ]
     },
     "execution_count": 5,
     "metadata": {},
     "output_type": "execute_result"
    }
   ],
   "source": [
    "df.dtypes #Check data types"
   ]
  },
  {
   "cell_type": "code",
   "execution_count": 6,
   "id": "headed-birmingham",
   "metadata": {},
   "outputs": [
    {
     "data": {
      "text/html": [
       "<div>\n",
       "<style scoped>\n",
       "    .dataframe tbody tr th:only-of-type {\n",
       "        vertical-align: middle;\n",
       "    }\n",
       "\n",
       "    .dataframe tbody tr th {\n",
       "        vertical-align: top;\n",
       "    }\n",
       "\n",
       "    .dataframe thead th {\n",
       "        text-align: right;\n",
       "    }\n",
       "</style>\n",
       "<table border=\"1\" class=\"dataframe\">\n",
       "  <thead>\n",
       "    <tr style=\"text-align: right;\">\n",
       "      <th></th>\n",
       "      <th>EmpID</th>\n",
       "      <th>Salary</th>\n",
       "      <th>PositionID</th>\n",
       "      <th>ManagerID</th>\n",
       "      <th>Absences</th>\n",
       "    </tr>\n",
       "  </thead>\n",
       "  <tbody>\n",
       "    <tr>\n",
       "      <th>count</th>\n",
       "      <td>311.000000</td>\n",
       "      <td>249.000000</td>\n",
       "      <td>311.000000</td>\n",
       "      <td>303.000000</td>\n",
       "      <td>280.000000</td>\n",
       "    </tr>\n",
       "    <tr>\n",
       "      <th>mean</th>\n",
       "      <td>10156.000000</td>\n",
       "      <td>67972.662651</td>\n",
       "      <td>16.845659</td>\n",
       "      <td>14.570957</td>\n",
       "      <td>10.128571</td>\n",
       "    </tr>\n",
       "    <tr>\n",
       "      <th>std</th>\n",
       "      <td>89.922189</td>\n",
       "      <td>22995.908395</td>\n",
       "      <td>6.223419</td>\n",
       "      <td>8.078306</td>\n",
       "      <td>5.946407</td>\n",
       "    </tr>\n",
       "    <tr>\n",
       "      <th>min</th>\n",
       "      <td>10001.000000</td>\n",
       "      <td>45046.000000</td>\n",
       "      <td>1.000000</td>\n",
       "      <td>1.000000</td>\n",
       "      <td>1.000000</td>\n",
       "    </tr>\n",
       "    <tr>\n",
       "      <th>25%</th>\n",
       "      <td>10078.500000</td>\n",
       "      <td>55315.000000</td>\n",
       "      <td>18.000000</td>\n",
       "      <td>10.000000</td>\n",
       "      <td>4.750000</td>\n",
       "    </tr>\n",
       "    <tr>\n",
       "      <th>50%</th>\n",
       "      <td>10156.000000</td>\n",
       "      <td>62957.000000</td>\n",
       "      <td>19.000000</td>\n",
       "      <td>15.000000</td>\n",
       "      <td>10.000000</td>\n",
       "    </tr>\n",
       "    <tr>\n",
       "      <th>75%</th>\n",
       "      <td>10233.500000</td>\n",
       "      <td>71707.000000</td>\n",
       "      <td>20.000000</td>\n",
       "      <td>19.000000</td>\n",
       "      <td>15.250000</td>\n",
       "    </tr>\n",
       "    <tr>\n",
       "      <th>max</th>\n",
       "      <td>10311.000000</td>\n",
       "      <td>220450.000000</td>\n",
       "      <td>30.000000</td>\n",
       "      <td>39.000000</td>\n",
       "      <td>20.000000</td>\n",
       "    </tr>\n",
       "  </tbody>\n",
       "</table>\n",
       "</div>"
      ],
      "text/plain": [
       "              EmpID         Salary  PositionID   ManagerID    Absences\n",
       "count    311.000000     249.000000  311.000000  303.000000  280.000000\n",
       "mean   10156.000000   67972.662651   16.845659   14.570957   10.128571\n",
       "std       89.922189   22995.908395    6.223419    8.078306    5.946407\n",
       "min    10001.000000   45046.000000    1.000000    1.000000    1.000000\n",
       "25%    10078.500000   55315.000000   18.000000   10.000000    4.750000\n",
       "50%    10156.000000   62957.000000   19.000000   15.000000   10.000000\n",
       "75%    10233.500000   71707.000000   20.000000   19.000000   15.250000\n",
       "max    10311.000000  220450.000000   30.000000   39.000000   20.000000"
      ]
     },
     "execution_count": 6,
     "metadata": {},
     "output_type": "execute_result"
    }
   ],
   "source": [
    "df.describe() #Show statistical summary"
   ]
  },
  {
   "cell_type": "code",
   "execution_count": 7,
   "id": "dominant-freeze",
   "metadata": {},
   "outputs": [
    {
     "data": {
      "text/plain": [
       "Employee_Name         93\n",
       "EmpID                  0\n",
       "Salary                62\n",
       "PositionID             0\n",
       "Position               0\n",
       "DOB                   31\n",
       "Sex                   62\n",
       "MaritalDesc            0\n",
       "RaceDesc               0\n",
       "DateofHire             0\n",
       "DateofTermination    207\n",
       "Department             0\n",
       "ManagerName            0\n",
       "ManagerID              8\n",
       "RecruitmentSource      0\n",
       "Absences              31\n",
       "dtype: int64"
      ]
     },
     "execution_count": 7,
     "metadata": {},
     "output_type": "execute_result"
    }
   ],
   "source": [
    "df.isna().sum() #Is there any missing values?"
   ]
  },
  {
   "cell_type": "code",
   "execution_count": 8,
   "id": "848daa60",
   "metadata": {},
   "outputs": [
    {
     "data": {
      "image/png": "[encoded data removed]",
      "text/plain": [
       "<Figure size 640x480 with 1 Axes>"
      ]
     },
     "metadata": {},
     "output_type": "display_data"
    }
   ],
   "source": [
    "df.isnull().sum().sort_values().plot(kind=\"barh\", title=\"Missing Data\"); \n"
   ]
  },
  {
   "cell_type": "code",
   "execution_count": 10,
   "id": "76486fa8",
   "metadata": {},
   "outputs": [
    {
     "data": {
      "image/png": "[encoded data removed]",
      "text/plain": [
       "<Figure size 640x480 with 1 Axes>"
      ]
     },
     "metadata": {},
     "output_type": "display_data"
    }
   ],
   "source": [
    "plt.scatter(df['Salary'], df['Absences'])\n",
    "plt.xlabel('Salary')\n",
    "plt.ylabel('Absences')\n",
    "plt.show()"
   ]
  },
  {
   "cell_type": "markdown",
   "id": "actual-protection",
   "metadata": {},
   "source": [
    "### Do the following steps for each column with missing values.\n",
    "* Identity the column.\n",
    "* How much precentage the missing value represents?\n",
    "* What is the best way to handle these missing values and why?\n",
    "* Apply your method to the column."
   ]
  },
  {
   "cell_type": "code",
   "execution_count": 11,
   "id": "b9847604",
   "metadata": {},
   "outputs": [
    {
     "data": {
      "text/plain": [
       "Index(['Employee_Name', 'Salary', 'DOB', 'Sex', 'DateofTermination',\n",
       "       'ManagerID', 'Absences'],\n",
       "      dtype='object')"
      ]
     },
     "execution_count": 11,
     "metadata": {},
     "output_type": "execute_result"
    }
   ],
   "source": [
    "df.columns[df.isnull().any()]"
   ]
  },
  {
   "cell_type": "code",
   "execution_count": 12,
   "id": "upper-movie",
   "metadata": {},
   "outputs": [
    {
     "data": {
      "text/plain": [
       "Employee_Name         93\n",
       "EmpID                  0\n",
       "Salary                62\n",
       "PositionID             0\n",
       "Position               0\n",
       "DOB                   31\n",
       "Sex                   62\n",
       "MaritalDesc            0\n",
       "RaceDesc               0\n",
       "DateofHire             0\n",
       "DateofTermination    207\n",
       "Department             0\n",
       "ManagerName            0\n",
       "ManagerID              8\n",
       "RecruitmentSource      0\n",
       "Absences              31\n",
       "dtype: int64"
      ]
     },
     "execution_count": 12,
     "metadata": {},
     "output_type": "execute_result"
    }
   ],
   "source": [
    " df.isna().sum() \n"
   ]
  },
  {
   "cell_type": "code",
   "execution_count": 13,
   "id": "25d954c5",
   "metadata": {},
   "outputs": [
    {
     "data": {
      "text/plain": [
       "Employee_Name        29.903537\n",
       "EmpID                 0.000000\n",
       "Salary               19.935691\n",
       "PositionID            0.000000\n",
       "Position              0.000000\n",
       "DOB                   9.967846\n",
       "Sex                  19.935691\n",
       "MaritalDesc           0.000000\n",
       "RaceDesc              0.000000\n",
       "DateofHire            0.000000\n",
       "DateofTermination    66.559486\n",
       "Department            0.000000\n",
       "ManagerName           0.000000\n",
       "ManagerID             2.572347\n",
       "RecruitmentSource     0.000000\n",
       "Absences              9.967846\n",
       "dtype: float64"
      ]
     },
     "execution_count": 13,
     "metadata": {},
     "output_type": "execute_result"
    }
   ],
   "source": [
    "Pre=(df.isnull().sum()/len(df))*100\n",
    "Pre"
   ]
  },
  {
   "cell_type": "code",
   "execution_count": 14,
   "id": "a8f3b62b",
   "metadata": {},
   "outputs": [],
   "source": [
    "dfc = df.copy()"
   ]
  },
  {
   "cell_type": "code",
   "execution_count": 20,
   "id": "2c508392",
   "metadata": {},
   "outputs": [],
   "source": []
  },
  {
   "cell_type": "code",
   "execution_count": 21,
   "id": "508f15c8",
   "metadata": {},
   "outputs": [],
   "source": []
  },
  {
   "cell_type": "code",
   "execution_count": 44,
   "id": "48a542bb",
   "metadata": {},
   "outputs": [],
   "source": []
  },
  {
   "cell_type": "code",
   "execution_count": null,
   "id": "a56cf880",
   "metadata": {},
   "outputs": [],
   "source": []
  },
  {
   "cell_type": "code",
   "execution_count": 15,
   "id": "21222e44",
   "metadata": {},
   "outputs": [],
   "source": [
    "#Dropping column Employee Name ,because it's not needed \n",
    "\n",
    "dfc.drop('Employee_Name', axis=1, inplace=True)#Employee_Name\n"
   ]
  },
  {
   "cell_type": "code",
   "execution_count": 16,
   "id": "66710d7d",
   "metadata": {},
   "outputs": [],
   "source": [
    "#Salary,  it's best to fill the missing value depending on the PositionID and Department\n",
    "\n",
    "dfc['Salary']=dfc.groupby(['PositionID', 'Department'])['Salary'].transform(lambda x: x.fillna(x.mean(skipna=True)))"
   ]
  },
  {
   "cell_type": "code",
   "execution_count": 17,
   "id": "da2eebc9",
   "metadata": {},
   "outputs": [],
   "source": [
    "dfc['Salary'].fillna(dfc['Salary'].mean(), inplace=True)\n"
   ]
  },
  {
   "cell_type": "code",
   "execution_count": 18,
   "id": "98f61a2b",
   "metadata": {},
   "outputs": [
    {
     "data": {
      "text/plain": [
       "False"
      ]
     },
     "execution_count": 18,
     "metadata": {},
     "output_type": "execute_result"
    }
   ],
   "source": [
    "dfc['Salary'].isnull().any()"
   ]
  },
  {
   "cell_type": "code",
   "execution_count": 19,
   "id": "3ad0fa86",
   "metadata": {},
   "outputs": [],
   "source": [
    "#sex\n",
    "dfc['Sex'].fillna(method='bfill', inplace=True)"
   ]
  },
  {
   "cell_type": "code",
   "execution_count": 20,
   "id": "20d737cc",
   "metadata": {},
   "outputs": [],
   "source": [
    "from sklearn.preprocessing import LabelEncoder\n",
    "import numpy as np\n",
    "\n",
    "le = LabelEncoder()\n",
    "dfc['Sex'] = le.fit_transform(dfc['Sex'])"
   ]
  },
  {
   "cell_type": "code",
   "execution_count": 21,
   "id": "70711f40",
   "metadata": {},
   "outputs": [
    {
     "data": {
      "text/plain": [
       "False"
      ]
     },
     "execution_count": 21,
     "metadata": {},
     "output_type": "execute_result"
    }
   ],
   "source": [
    "dfc['Sex'].isnull().any()"
   ]
  },
  {
   "cell_type": "code",
   "execution_count": 22,
   "id": "be0c2030",
   "metadata": {},
   "outputs": [],
   "source": [
    "#DateofTermination\n",
    "dfc['DateofTermination']=dfc['DateofTermination'].fillna('Not_yet')\n"
   ]
  },
  {
   "cell_type": "code",
   "execution_count": 23,
   "id": "f51bbb8e",
   "metadata": {},
   "outputs": [
    {
     "data": {
      "text/plain": [
       "False"
      ]
     },
     "execution_count": 23,
     "metadata": {},
     "output_type": "execute_result"
    }
   ],
   "source": [
    "dfc['DateofTermination'].isnull().any()"
   ]
  },
  {
   "cell_type": "code",
   "execution_count": 24,
   "id": "3c6025dd",
   "metadata": {},
   "outputs": [],
   "source": [
    "#DOB, sorted the data based on PositionID \n",
    "dfc=dfc.sort_values(by = 'PositionID').reset_index(drop=True)\n",
    "\n",
    "dfc['DOB'].fillna(method=\"ffill\", inplace=True)"
   ]
  },
  {
   "cell_type": "code",
   "execution_count": 25,
   "id": "951bf165",
   "metadata": {},
   "outputs": [
    {
     "data": {
      "text/plain": [
       "False"
      ]
     },
     "execution_count": 25,
     "metadata": {},
     "output_type": "execute_result"
    }
   ],
   "source": [
    "dfc['DOB'].isnull().any()"
   ]
  },
  {
   "cell_type": "code",
   "execution_count": 26,
   "id": "0c379923",
   "metadata": {},
   "outputs": [],
   "source": [
    "#Absences , replace with the median of the column\n",
    "dfc['Absences'] = dfc['Absences'].fillna(dfc['Absences'].median())"
   ]
  },
  {
   "cell_type": "code",
   "execution_count": 27,
   "id": "39d0ae20",
   "metadata": {},
   "outputs": [
    {
     "data": {
      "text/plain": [
       "False"
      ]
     },
     "execution_count": 27,
     "metadata": {},
     "output_type": "execute_result"
    }
   ],
   "source": [
    "dfc['Absences'].isnull().any()"
   ]
  },
  {
   "cell_type": "code",
   "execution_count": 28,
   "id": "72ce86d5",
   "metadata": {},
   "outputs": [],
   "source": [
    "# all  missing values are from one mangager\n",
    "# Webster Butler\n",
    "# ID is 39 \n",
    "dfc['ManagerID'] = dfc['ManagerID'].fillna(39)"
   ]
  },
  {
   "cell_type": "code",
   "execution_count": 29,
   "id": "0711e556",
   "metadata": {},
   "outputs": [
    {
     "data": {
      "text/plain": [
       "False"
      ]
     },
     "execution_count": 29,
     "metadata": {},
     "output_type": "execute_result"
    }
   ],
   "source": [
    "dfc['ManagerID'].isnull().any()"
   ]
  },
  {
   "cell_type": "code",
   "execution_count": 30,
   "id": "dd7f5362",
   "metadata": {},
   "outputs": [
    {
     "data": {
      "text/plain": [
       "EmpID                0\n",
       "Salary               0\n",
       "PositionID           0\n",
       "Position             0\n",
       "DOB                  0\n",
       "Sex                  0\n",
       "MaritalDesc          0\n",
       "RaceDesc             0\n",
       "DateofHire           0\n",
       "DateofTermination    0\n",
       "Department           0\n",
       "ManagerName          0\n",
       "ManagerID            0\n",
       "RecruitmentSource    0\n",
       "Absences             0\n",
       "dtype: int64"
      ]
     },
     "execution_count": 30,
     "metadata": {},
     "output_type": "execute_result"
    }
   ],
   "source": [
    "dfc.isna().sum()"
   ]
  },
  {
   "cell_type": "code",
   "execution_count": 30,
   "id": "peripheral-starter",
   "metadata": {},
   "outputs": [
    {
     "data": {
      "text/plain": [
       "EmpID                0\n",
       "Salary               0\n",
       "PositionID           0\n",
       "Position             0\n",
       "DOB                  0\n",
       "Sex                  0\n",
       "MaritalDesc          0\n",
       "RaceDesc             0\n",
       "DateofHire           0\n",
       "DateofTermination    0\n",
       "Department           0\n",
       "ManagerName          0\n",
       "ManagerID            0\n",
       "RecruitmentSource    0\n",
       "Absences             0\n",
       "dtype: int64"
      ]
     },
     "execution_count": 30,
     "metadata": {},
     "output_type": "execute_result"
    }
   ],
   "source": [
    "#df.isna().sum()"
   ]
  }
 ],
 "metadata": {
  "kernelspec": {
   "display_name": "Python 3 (ipykernel)",
   "language": "python",
   "name": "python3"
  },
  "language_info": {
   "codemirror_mode": {
    "name": "ipython",
    "version": 3
   },
   "file_extension": ".py",
   "mimetype": "text/x-python",
   "name": "python",
   "nbconvert_exporter": "python",
   "pygments_lexer": "ipython3",
   "version": "3.11.3"
  }
 },
 "nbformat": 4,
 "nbformat_minor": 5
}
