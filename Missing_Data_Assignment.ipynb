{
 "cells": [
  {
   "cell_type": "markdown",
   "id": "modified-designation",
   "metadata": {},
   "source": [
    "### Import your libraries"
   ]
  },
  {
   "cell_type": "code",
   "execution_count": 52,
   "id": "offensive-lesbian",
   "metadata": {},
   "outputs": [],
   "source": [
    "import pandas as pd\n",
    "import seaborn as sns\n",
    "import numpy  as np"
   ]
  },
  {
   "cell_type": "markdown",
   "id": "israeli-dialogue",
   "metadata": {},
   "source": [
    "### Load your dataset"
   ]
  },
  {
   "cell_type": "code",
   "execution_count": 53,
   "id": "typical-wrong",
   "metadata": {},
   "outputs": [],
   "source": [
    "df= pd.read_csv(\"HR_Missing_Values.csv\")\n"
   ]
  },
  {
   "cell_type": "markdown",
   "id": "federal-television",
   "metadata": {},
   "source": [
    "### Explore your data \n",
    "\n",
    "* First 5 recods.\n",
    "* Last 5 records. \n",
    "* Check data types.\n",
    "* Show statistical summary.\n",
    "* Is there any missing values?\n",
    "* Applay two more data analysis from your choose."
   ]
  },
  {
   "cell_type": "markdown",
   "id": "32a0fdbf",
   "metadata": {},
   "source": [
    "## First 5 recods"
   ]
  },
  {
   "cell_type": "code",
   "execution_count": 54,
   "id": "experienced-democrat",
   "metadata": {},
   "outputs": [
    {
     "data": {
      "text/html": [
       "<div>\n",
       "<style scoped>\n",
       "    .dataframe tbody tr th:only-of-type {\n",
       "        vertical-align: middle;\n",
       "    }\n",
       "\n",
       "    .dataframe tbody tr th {\n",
       "        vertical-align: top;\n",
       "    }\n",
       "\n",
       "    .dataframe thead th {\n",
       "        text-align: right;\n",
       "    }\n",
       "</style>\n",
       "<table border=\"1\" class=\"dataframe\">\n",
       "  <thead>\n",
       "    <tr style=\"text-align: right;\">\n",
       "      <th></th>\n",
       "      <th>Employee_Name</th>\n",
       "      <th>EmpID</th>\n",
       "      <th>Salary</th>\n",
       "      <th>PositionID</th>\n",
       "      <th>Position</th>\n",
       "      <th>DOB</th>\n",
       "      <th>Sex</th>\n",
       "      <th>MaritalDesc</th>\n",
       "      <th>RaceDesc</th>\n",
       "      <th>DateofHire</th>\n",
       "      <th>DateofTermination</th>\n",
       "      <th>Department</th>\n",
       "      <th>ManagerName</th>\n",
       "      <th>ManagerID</th>\n",
       "      <th>RecruitmentSource</th>\n",
       "      <th>Absences</th>\n",
       "    </tr>\n",
       "  </thead>\n",
       "  <tbody>\n",
       "    <tr>\n",
       "      <th>0</th>\n",
       "      <td>Adinolfi, Wilson  K</td>\n",
       "      <td>10026</td>\n",
       "      <td>62506.0</td>\n",
       "      <td>19</td>\n",
       "      <td>Production Technician I</td>\n",
       "      <td>07/10/83</td>\n",
       "      <td>M</td>\n",
       "      <td>Single</td>\n",
       "      <td>White</td>\n",
       "      <td>7/5/2011</td>\n",
       "      <td>NaN</td>\n",
       "      <td>Production</td>\n",
       "      <td>Michael Albert</td>\n",
       "      <td>22.0</td>\n",
       "      <td>LinkedIn</td>\n",
       "      <td>1.0</td>\n",
       "    </tr>\n",
       "    <tr>\n",
       "      <th>1</th>\n",
       "      <td>Ait Sidi, Karthikeyan</td>\n",
       "      <td>10084</td>\n",
       "      <td>104437.0</td>\n",
       "      <td>27</td>\n",
       "      <td>Sr. DBA</td>\n",
       "      <td>05/05/75</td>\n",
       "      <td>M</td>\n",
       "      <td>Married</td>\n",
       "      <td>White</td>\n",
       "      <td>3/30/2015</td>\n",
       "      <td>6/16/2016</td>\n",
       "      <td>IT/IS</td>\n",
       "      <td>Simon Roup</td>\n",
       "      <td>4.0</td>\n",
       "      <td>Indeed</td>\n",
       "      <td>17.0</td>\n",
       "    </tr>\n",
       "    <tr>\n",
       "      <th>2</th>\n",
       "      <td>Akinkuolie, Sarah</td>\n",
       "      <td>10196</td>\n",
       "      <td>64955.0</td>\n",
       "      <td>20</td>\n",
       "      <td>Production Technician II</td>\n",
       "      <td>09/19/88</td>\n",
       "      <td>F</td>\n",
       "      <td>Married</td>\n",
       "      <td>White</td>\n",
       "      <td>7/5/2011</td>\n",
       "      <td>9/24/2012</td>\n",
       "      <td>Production</td>\n",
       "      <td>Kissy Sullivan</td>\n",
       "      <td>20.0</td>\n",
       "      <td>LinkedIn</td>\n",
       "      <td>3.0</td>\n",
       "    </tr>\n",
       "    <tr>\n",
       "      <th>3</th>\n",
       "      <td>Alagbe,Trina</td>\n",
       "      <td>10088</td>\n",
       "      <td>64991.0</td>\n",
       "      <td>19</td>\n",
       "      <td>Production Technician I</td>\n",
       "      <td>NaN</td>\n",
       "      <td>F</td>\n",
       "      <td>Married</td>\n",
       "      <td>White</td>\n",
       "      <td>1/7/2008</td>\n",
       "      <td>NaN</td>\n",
       "      <td>Production</td>\n",
       "      <td>Elijiah Gray</td>\n",
       "      <td>16.0</td>\n",
       "      <td>Indeed</td>\n",
       "      <td>15.0</td>\n",
       "    </tr>\n",
       "    <tr>\n",
       "      <th>4</th>\n",
       "      <td>NaN</td>\n",
       "      <td>10069</td>\n",
       "      <td>50825.0</td>\n",
       "      <td>19</td>\n",
       "      <td>Production Technician I</td>\n",
       "      <td>09/08/89</td>\n",
       "      <td>F</td>\n",
       "      <td>Divorced</td>\n",
       "      <td>White</td>\n",
       "      <td>7/11/2011</td>\n",
       "      <td>9/6/2016</td>\n",
       "      <td>Production</td>\n",
       "      <td>Webster Butler</td>\n",
       "      <td>39.0</td>\n",
       "      <td>Google Search</td>\n",
       "      <td>2.0</td>\n",
       "    </tr>\n",
       "  </tbody>\n",
       "</table>\n",
       "</div>"
      ],
      "text/plain": [
       "              Employee_Name  EmpID    Salary  PositionID  \\\n",
       "0       Adinolfi, Wilson  K  10026   62506.0          19   \n",
       "1  Ait Sidi, Karthikeyan     10084  104437.0          27   \n",
       "2         Akinkuolie, Sarah  10196   64955.0          20   \n",
       "3              Alagbe,Trina  10088   64991.0          19   \n",
       "4                       NaN  10069   50825.0          19   \n",
       "\n",
       "                   Position       DOB Sex MaritalDesc RaceDesc DateofHire  \\\n",
       "0   Production Technician I  07/10/83  M       Single    White   7/5/2011   \n",
       "1                   Sr. DBA  05/05/75  M      Married    White  3/30/2015   \n",
       "2  Production Technician II  09/19/88   F     Married    White   7/5/2011   \n",
       "3   Production Technician I       NaN   F     Married    White   1/7/2008   \n",
       "4   Production Technician I  09/08/89   F    Divorced    White  7/11/2011   \n",
       "\n",
       "  DateofTermination         Department     ManagerName  ManagerID  \\\n",
       "0               NaN  Production         Michael Albert       22.0   \n",
       "1         6/16/2016              IT/IS      Simon Roup        4.0   \n",
       "2         9/24/2012  Production         Kissy Sullivan       20.0   \n",
       "3               NaN  Production           Elijiah Gray       16.0   \n",
       "4          9/6/2016  Production         Webster Butler       39.0   \n",
       "\n",
       "  RecruitmentSource  Absences  \n",
       "0          LinkedIn       1.0  \n",
       "1            Indeed      17.0  \n",
       "2          LinkedIn       3.0  \n",
       "3            Indeed      15.0  \n",
       "4     Google Search       2.0  "
      ]
     },
     "execution_count": 54,
     "metadata": {},
     "output_type": "execute_result"
    }
   ],
   "source": [
    "df.head()"
   ]
  },
  {
   "cell_type": "markdown",
   "id": "433295d9",
   "metadata": {},
   "source": [
    "## Last 5 records"
   ]
  },
  {
   "cell_type": "code",
   "execution_count": 55,
   "id": "missing-relevance",
   "metadata": {},
   "outputs": [
    {
     "data": {
      "text/html": [
       "<div>\n",
       "<style scoped>\n",
       "    .dataframe tbody tr th:only-of-type {\n",
       "        vertical-align: middle;\n",
       "    }\n",
       "\n",
       "    .dataframe tbody tr th {\n",
       "        vertical-align: top;\n",
       "    }\n",
       "\n",
       "    .dataframe thead th {\n",
       "        text-align: right;\n",
       "    }\n",
       "</style>\n",
       "<table border=\"1\" class=\"dataframe\">\n",
       "  <thead>\n",
       "    <tr style=\"text-align: right;\">\n",
       "      <th></th>\n",
       "      <th>Employee_Name</th>\n",
       "      <th>EmpID</th>\n",
       "      <th>Salary</th>\n",
       "      <th>PositionID</th>\n",
       "      <th>Position</th>\n",
       "      <th>DOB</th>\n",
       "      <th>Sex</th>\n",
       "      <th>MaritalDesc</th>\n",
       "      <th>RaceDesc</th>\n",
       "      <th>DateofHire</th>\n",
       "      <th>DateofTermination</th>\n",
       "      <th>Department</th>\n",
       "      <th>ManagerName</th>\n",
       "      <th>ManagerID</th>\n",
       "      <th>RecruitmentSource</th>\n",
       "      <th>Absences</th>\n",
       "    </tr>\n",
       "  </thead>\n",
       "  <tbody>\n",
       "    <tr>\n",
       "      <th>306</th>\n",
       "      <td>Woodson, Jason</td>\n",
       "      <td>10135</td>\n",
       "      <td>65893.0</td>\n",
       "      <td>20</td>\n",
       "      <td>Production Technician II</td>\n",
       "      <td>05/11/85</td>\n",
       "      <td>M</td>\n",
       "      <td>Single</td>\n",
       "      <td>White</td>\n",
       "      <td>7/7/2014</td>\n",
       "      <td>NaN</td>\n",
       "      <td>Production</td>\n",
       "      <td>Kissy Sullivan</td>\n",
       "      <td>20.0</td>\n",
       "      <td>LinkedIn</td>\n",
       "      <td>13.0</td>\n",
       "    </tr>\n",
       "    <tr>\n",
       "      <th>307</th>\n",
       "      <td>Ybarra, Catherine</td>\n",
       "      <td>10301</td>\n",
       "      <td>48513.0</td>\n",
       "      <td>19</td>\n",
       "      <td>Production Technician I</td>\n",
       "      <td>NaN</td>\n",
       "      <td>F</td>\n",
       "      <td>Single</td>\n",
       "      <td>Asian</td>\n",
       "      <td>9/2/2008</td>\n",
       "      <td>9/29/2015</td>\n",
       "      <td>Production</td>\n",
       "      <td>Brannon Miller</td>\n",
       "      <td>12.0</td>\n",
       "      <td>Google Search</td>\n",
       "      <td>4.0</td>\n",
       "    </tr>\n",
       "    <tr>\n",
       "      <th>308</th>\n",
       "      <td>NaN</td>\n",
       "      <td>10010</td>\n",
       "      <td>220450.0</td>\n",
       "      <td>6</td>\n",
       "      <td>CIO</td>\n",
       "      <td>NaN</td>\n",
       "      <td>F</td>\n",
       "      <td>Single</td>\n",
       "      <td>White</td>\n",
       "      <td>4/10/2010</td>\n",
       "      <td>NaN</td>\n",
       "      <td>IT/IS</td>\n",
       "      <td>Janet King</td>\n",
       "      <td>2.0</td>\n",
       "      <td>Employee Referral</td>\n",
       "      <td>16.0</td>\n",
       "    </tr>\n",
       "    <tr>\n",
       "      <th>309</th>\n",
       "      <td>Zhou, Julia</td>\n",
       "      <td>10043</td>\n",
       "      <td>89292.0</td>\n",
       "      <td>9</td>\n",
       "      <td>Data Analyst</td>\n",
       "      <td>02/24/79</td>\n",
       "      <td>F</td>\n",
       "      <td>Single</td>\n",
       "      <td>White</td>\n",
       "      <td>3/30/2015</td>\n",
       "      <td>NaN</td>\n",
       "      <td>IT/IS</td>\n",
       "      <td>Simon Roup</td>\n",
       "      <td>4.0</td>\n",
       "      <td>Employee Referral</td>\n",
       "      <td>NaN</td>\n",
       "    </tr>\n",
       "    <tr>\n",
       "      <th>310</th>\n",
       "      <td>NaN</td>\n",
       "      <td>10271</td>\n",
       "      <td>45046.0</td>\n",
       "      <td>19</td>\n",
       "      <td>Production Technician I</td>\n",
       "      <td>08/17/78</td>\n",
       "      <td>F</td>\n",
       "      <td>Widowed</td>\n",
       "      <td>Asian</td>\n",
       "      <td>9/29/2014</td>\n",
       "      <td>NaN</td>\n",
       "      <td>Production</td>\n",
       "      <td>David Stanley</td>\n",
       "      <td>14.0</td>\n",
       "      <td>LinkedIn</td>\n",
       "      <td>2.0</td>\n",
       "    </tr>\n",
       "  </tbody>\n",
       "</table>\n",
       "</div>"
      ],
      "text/plain": [
       "          Employee_Name  EmpID    Salary  PositionID  \\\n",
       "306      Woodson, Jason  10135   65893.0          20   \n",
       "307  Ybarra, Catherine   10301   48513.0          19   \n",
       "308                 NaN  10010  220450.0           6   \n",
       "309         Zhou, Julia  10043   89292.0           9   \n",
       "310                 NaN  10271   45046.0          19   \n",
       "\n",
       "                     Position       DOB Sex MaritalDesc RaceDesc DateofHire  \\\n",
       "306  Production Technician II  05/11/85  M       Single    White   7/7/2014   \n",
       "307   Production Technician I       NaN   F      Single    Asian   9/2/2008   \n",
       "308                       CIO       NaN   F      Single    White  4/10/2010   \n",
       "309              Data Analyst  02/24/79   F      Single    White  3/30/2015   \n",
       "310   Production Technician I  08/17/78   F     Widowed    Asian  9/29/2014   \n",
       "\n",
       "    DateofTermination         Department     ManagerName  ManagerID  \\\n",
       "306               NaN  Production         Kissy Sullivan       20.0   \n",
       "307         9/29/2015  Production         Brannon Miller       12.0   \n",
       "308               NaN              IT/IS      Janet King        2.0   \n",
       "309               NaN              IT/IS      Simon Roup        4.0   \n",
       "310               NaN  Production          David Stanley       14.0   \n",
       "\n",
       "     RecruitmentSource  Absences  \n",
       "306           LinkedIn      13.0  \n",
       "307      Google Search       4.0  \n",
       "308  Employee Referral      16.0  \n",
       "309  Employee Referral       NaN  \n",
       "310           LinkedIn       2.0  "
      ]
     },
     "execution_count": 55,
     "metadata": {},
     "output_type": "execute_result"
    }
   ],
   "source": [
    "df.tail()"
   ]
  },
  {
   "cell_type": "markdown",
   "id": "d5eb02d6",
   "metadata": {},
   "source": [
    "## Check data types"
   ]
  },
  {
   "cell_type": "code",
   "execution_count": 56,
   "id": "f10ea47c",
   "metadata": {},
   "outputs": [
    {
     "data": {
      "text/plain": [
       "Employee_Name         object\n",
       "EmpID                  int64\n",
       "Salary               float64\n",
       "PositionID             int64\n",
       "Position              object\n",
       "DOB                   object\n",
       "Sex                   object\n",
       "MaritalDesc           object\n",
       "RaceDesc              object\n",
       "DateofHire            object\n",
       "DateofTermination     object\n",
       "Department            object\n",
       "ManagerName           object\n",
       "ManagerID            float64\n",
       "RecruitmentSource     object\n",
       "Absences             float64\n",
       "dtype: object"
      ]
     },
     "execution_count": 56,
     "metadata": {},
     "output_type": "execute_result"
    }
   ],
   "source": [
    "df.dtypes"
   ]
  },
  {
   "cell_type": "markdown",
   "id": "150b85d7",
   "metadata": {},
   "source": [
    "## Show statistical summary"
   ]
  },
  {
   "cell_type": "code",
   "execution_count": 57,
   "id": "headed-birmingham",
   "metadata": {},
   "outputs": [
    {
     "data": {
      "text/html": [
       "<div>\n",
       "<style scoped>\n",
       "    .dataframe tbody tr th:only-of-type {\n",
       "        vertical-align: middle;\n",
       "    }\n",
       "\n",
       "    .dataframe tbody tr th {\n",
       "        vertical-align: top;\n",
       "    }\n",
       "\n",
       "    .dataframe thead th {\n",
       "        text-align: right;\n",
       "    }\n",
       "</style>\n",
       "<table border=\"1\" class=\"dataframe\">\n",
       "  <thead>\n",
       "    <tr style=\"text-align: right;\">\n",
       "      <th></th>\n",
       "      <th>EmpID</th>\n",
       "      <th>Salary</th>\n",
       "      <th>PositionID</th>\n",
       "      <th>ManagerID</th>\n",
       "      <th>Absences</th>\n",
       "    </tr>\n",
       "  </thead>\n",
       "  <tbody>\n",
       "    <tr>\n",
       "      <th>count</th>\n",
       "      <td>311.0</td>\n",
       "      <td>249.0</td>\n",
       "      <td>311.0</td>\n",
       "      <td>303.0</td>\n",
       "      <td>280.0</td>\n",
       "    </tr>\n",
       "    <tr>\n",
       "      <th>mean</th>\n",
       "      <td>10156.0</td>\n",
       "      <td>67973.0</td>\n",
       "      <td>17.0</td>\n",
       "      <td>15.0</td>\n",
       "      <td>10.0</td>\n",
       "    </tr>\n",
       "    <tr>\n",
       "      <th>std</th>\n",
       "      <td>90.0</td>\n",
       "      <td>22996.0</td>\n",
       "      <td>6.0</td>\n",
       "      <td>8.0</td>\n",
       "      <td>6.0</td>\n",
       "    </tr>\n",
       "    <tr>\n",
       "      <th>min</th>\n",
       "      <td>10001.0</td>\n",
       "      <td>45046.0</td>\n",
       "      <td>1.0</td>\n",
       "      <td>1.0</td>\n",
       "      <td>1.0</td>\n",
       "    </tr>\n",
       "    <tr>\n",
       "      <th>25%</th>\n",
       "      <td>10078.0</td>\n",
       "      <td>55315.0</td>\n",
       "      <td>18.0</td>\n",
       "      <td>10.0</td>\n",
       "      <td>5.0</td>\n",
       "    </tr>\n",
       "    <tr>\n",
       "      <th>50%</th>\n",
       "      <td>10156.0</td>\n",
       "      <td>62957.0</td>\n",
       "      <td>19.0</td>\n",
       "      <td>15.0</td>\n",
       "      <td>10.0</td>\n",
       "    </tr>\n",
       "    <tr>\n",
       "      <th>75%</th>\n",
       "      <td>10234.0</td>\n",
       "      <td>71707.0</td>\n",
       "      <td>20.0</td>\n",
       "      <td>19.0</td>\n",
       "      <td>15.0</td>\n",
       "    </tr>\n",
       "    <tr>\n",
       "      <th>max</th>\n",
       "      <td>10311.0</td>\n",
       "      <td>220450.0</td>\n",
       "      <td>30.0</td>\n",
       "      <td>39.0</td>\n",
       "      <td>20.0</td>\n",
       "    </tr>\n",
       "  </tbody>\n",
       "</table>\n",
       "</div>"
      ],
      "text/plain": [
       "         EmpID    Salary  PositionID  ManagerID  Absences\n",
       "count    311.0     249.0       311.0      303.0     280.0\n",
       "mean   10156.0   67973.0        17.0       15.0      10.0\n",
       "std       90.0   22996.0         6.0        8.0       6.0\n",
       "min    10001.0   45046.0         1.0        1.0       1.0\n",
       "25%    10078.0   55315.0        18.0       10.0       5.0\n",
       "50%    10156.0   62957.0        19.0       15.0      10.0\n",
       "75%    10234.0   71707.0        20.0       19.0      15.0\n",
       "max    10311.0  220450.0        30.0       39.0      20.0"
      ]
     },
     "execution_count": 57,
     "metadata": {},
     "output_type": "execute_result"
    }
   ],
   "source": [
    "df.describe().round()"
   ]
  },
  {
   "cell_type": "code",
   "execution_count": 58,
   "id": "nuclear-checkout",
   "metadata": {},
   "outputs": [
    {
     "name": "stdout",
     "output_type": "stream",
     "text": [
      "<class 'pandas.core.frame.DataFrame'>\n",
      "RangeIndex: 311 entries, 0 to 310\n",
      "Data columns (total 16 columns):\n",
      " #   Column             Non-Null Count  Dtype  \n",
      "---  ------             --------------  -----  \n",
      " 0   Employee_Name      218 non-null    object \n",
      " 1   EmpID              311 non-null    int64  \n",
      " 2   Salary             249 non-null    float64\n",
      " 3   PositionID         311 non-null    int64  \n",
      " 4   Position           311 non-null    object \n",
      " 5   DOB                280 non-null    object \n",
      " 6   Sex                249 non-null    object \n",
      " 7   MaritalDesc        311 non-null    object \n",
      " 8   RaceDesc           311 non-null    object \n",
      " 9   DateofHire         311 non-null    object \n",
      " 10  DateofTermination  104 non-null    object \n",
      " 11  Department         311 non-null    object \n",
      " 12  ManagerName        311 non-null    object \n",
      " 13  ManagerID          303 non-null    float64\n",
      " 14  RecruitmentSource  311 non-null    object \n",
      " 15  Absences           280 non-null    float64\n",
      "dtypes: float64(3), int64(2), object(11)\n",
      "memory usage: 39.0+ KB\n"
     ]
    }
   ],
   "source": [
    "df.info()"
   ]
  },
  {
   "cell_type": "markdown",
   "id": "7565121c",
   "metadata": {},
   "source": [
    "## Is there any missing values?"
   ]
  },
  {
   "cell_type": "code",
   "execution_count": 59,
   "id": "dominant-freeze",
   "metadata": {},
   "outputs": [
    {
     "data": {
      "text/plain": [
       "Employee_Name         93\n",
       "EmpID                  0\n",
       "Salary                62\n",
       "PositionID             0\n",
       "Position               0\n",
       "DOB                   31\n",
       "Sex                   62\n",
       "MaritalDesc            0\n",
       "RaceDesc               0\n",
       "DateofHire             0\n",
       "DateofTermination    207\n",
       "Department             0\n",
       "ManagerName            0\n",
       "ManagerID              8\n",
       "RecruitmentSource      0\n",
       "Absences              31\n",
       "dtype: int64"
      ]
     },
     "execution_count": 59,
     "metadata": {},
     "output_type": "execute_result"
    }
   ],
   "source": [
    "df.isna().sum()"
   ]
  },
  {
   "cell_type": "markdown",
   "id": "65244820",
   "metadata": {},
   "source": [
    "## Apply two more data analysis from your choose\n",
    "- Most Common Jobs\n",
    "- Max & Min Salary "
   ]
  },
  {
   "cell_type": "markdown",
   "id": "df73f682",
   "metadata": {},
   "source": [
    "## Most Common Jobs"
   ]
  },
  {
   "cell_type": "code",
   "execution_count": 60,
   "id": "2218c873",
   "metadata": {},
   "outputs": [
    {
     "data": {
      "text/plain": [
       "Production Technician I     137\n",
       "Production Technician II     57\n",
       "Area Sales Manager           27\n",
       "Production Manager           14\n",
       "Software Engineer            10\n",
       "Name: Position, dtype: int64"
      ]
     },
     "execution_count": 60,
     "metadata": {},
     "output_type": "execute_result"
    }
   ],
   "source": [
    "df.Position.value_counts().head()"
   ]
  },
  {
   "cell_type": "markdown",
   "id": "3f9fcfff",
   "metadata": {},
   "source": [
    "# Maximum salary  "
   ]
  },
  {
   "cell_type": "code",
   "execution_count": 61,
   "id": "d9b51dee",
   "metadata": {},
   "outputs": [
    {
     "data": {
      "text/plain": [
       "220450.0"
      ]
     },
     "execution_count": 61,
     "metadata": {},
     "output_type": "execute_result"
    }
   ],
   "source": [
    "df.Salary.max()"
   ]
  },
  {
   "cell_type": "code",
   "execution_count": 62,
   "id": "0158f021",
   "metadata": {},
   "outputs": [
    {
     "data": {
      "text/html": [
       "<div>\n",
       "<style scoped>\n",
       "    .dataframe tbody tr th:only-of-type {\n",
       "        vertical-align: middle;\n",
       "    }\n",
       "\n",
       "    .dataframe tbody tr th {\n",
       "        vertical-align: top;\n",
       "    }\n",
       "\n",
       "    .dataframe thead th {\n",
       "        text-align: right;\n",
       "    }\n",
       "</style>\n",
       "<table border=\"1\" class=\"dataframe\">\n",
       "  <thead>\n",
       "    <tr style=\"text-align: right;\">\n",
       "      <th></th>\n",
       "      <th>Employee_Name</th>\n",
       "      <th>EmpID</th>\n",
       "      <th>Salary</th>\n",
       "      <th>PositionID</th>\n",
       "      <th>Position</th>\n",
       "      <th>DOB</th>\n",
       "      <th>Sex</th>\n",
       "      <th>MaritalDesc</th>\n",
       "      <th>RaceDesc</th>\n",
       "      <th>DateofHire</th>\n",
       "      <th>DateofTermination</th>\n",
       "      <th>Department</th>\n",
       "      <th>ManagerName</th>\n",
       "      <th>ManagerID</th>\n",
       "      <th>RecruitmentSource</th>\n",
       "      <th>Absences</th>\n",
       "    </tr>\n",
       "  </thead>\n",
       "  <tbody>\n",
       "    <tr>\n",
       "      <th>308</th>\n",
       "      <td>NaN</td>\n",
       "      <td>10010</td>\n",
       "      <td>220450.0</td>\n",
       "      <td>6</td>\n",
       "      <td>CIO</td>\n",
       "      <td>NaN</td>\n",
       "      <td>F</td>\n",
       "      <td>Single</td>\n",
       "      <td>White</td>\n",
       "      <td>4/10/2010</td>\n",
       "      <td>NaN</td>\n",
       "      <td>IT/IS</td>\n",
       "      <td>Janet King</td>\n",
       "      <td>2.0</td>\n",
       "      <td>Employee Referral</td>\n",
       "      <td>16.0</td>\n",
       "    </tr>\n",
       "  </tbody>\n",
       "</table>\n",
       "</div>"
      ],
      "text/plain": [
       "    Employee_Name  EmpID    Salary  PositionID Position  DOB Sex MaritalDesc  \\\n",
       "308           NaN  10010  220450.0           6      CIO  NaN   F      Single   \n",
       "\n",
       "    RaceDesc DateofHire DateofTermination Department ManagerName  ManagerID  \\\n",
       "308    White  4/10/2010               NaN      IT/IS  Janet King        2.0   \n",
       "\n",
       "     RecruitmentSource  Absences  \n",
       "308  Employee Referral      16.0  "
      ]
     },
     "execution_count": 62,
     "metadata": {},
     "output_type": "execute_result"
    }
   ],
   "source": [
    "# MAX salary record\n",
    "df[df.Salary == 220450.0]"
   ]
  },
  {
   "cell_type": "markdown",
   "id": "c38c40f1",
   "metadata": {},
   "source": [
    "# Minimum salary "
   ]
  },
  {
   "cell_type": "code",
   "execution_count": 63,
   "id": "76486fa8",
   "metadata": {},
   "outputs": [
    {
     "data": {
      "text/plain": [
       "45046.0"
      ]
     },
     "execution_count": 63,
     "metadata": {},
     "output_type": "execute_result"
    }
   ],
   "source": [
    "df.Salary.min()"
   ]
  },
  {
   "cell_type": "code",
   "execution_count": 64,
   "id": "de9af454",
   "metadata": {},
   "outputs": [
    {
     "data": {
      "text/html": [
       "<div>\n",
       "<style scoped>\n",
       "    .dataframe tbody tr th:only-of-type {\n",
       "        vertical-align: middle;\n",
       "    }\n",
       "\n",
       "    .dataframe tbody tr th {\n",
       "        vertical-align: top;\n",
       "    }\n",
       "\n",
       "    .dataframe thead th {\n",
       "        text-align: right;\n",
       "    }\n",
       "</style>\n",
       "<table border=\"1\" class=\"dataframe\">\n",
       "  <thead>\n",
       "    <tr style=\"text-align: right;\">\n",
       "      <th></th>\n",
       "      <th>Employee_Name</th>\n",
       "      <th>EmpID</th>\n",
       "      <th>Salary</th>\n",
       "      <th>PositionID</th>\n",
       "      <th>Position</th>\n",
       "      <th>DOB</th>\n",
       "      <th>Sex</th>\n",
       "      <th>MaritalDesc</th>\n",
       "      <th>RaceDesc</th>\n",
       "      <th>DateofHire</th>\n",
       "      <th>DateofTermination</th>\n",
       "      <th>Department</th>\n",
       "      <th>ManagerName</th>\n",
       "      <th>ManagerID</th>\n",
       "      <th>RecruitmentSource</th>\n",
       "      <th>Absences</th>\n",
       "    </tr>\n",
       "  </thead>\n",
       "  <tbody>\n",
       "    <tr>\n",
       "      <th>308</th>\n",
       "      <td>NaN</td>\n",
       "      <td>10010</td>\n",
       "      <td>220450.0</td>\n",
       "      <td>6</td>\n",
       "      <td>CIO</td>\n",
       "      <td>NaN</td>\n",
       "      <td>F</td>\n",
       "      <td>Single</td>\n",
       "      <td>White</td>\n",
       "      <td>4/10/2010</td>\n",
       "      <td>NaN</td>\n",
       "      <td>IT/IS</td>\n",
       "      <td>Janet King</td>\n",
       "      <td>2.0</td>\n",
       "      <td>Employee Referral</td>\n",
       "      <td>16.0</td>\n",
       "    </tr>\n",
       "  </tbody>\n",
       "</table>\n",
       "</div>"
      ],
      "text/plain": [
       "    Employee_Name  EmpID    Salary  PositionID Position  DOB Sex MaritalDesc  \\\n",
       "308           NaN  10010  220450.0           6      CIO  NaN   F      Single   \n",
       "\n",
       "    RaceDesc DateofHire DateofTermination Department ManagerName  ManagerID  \\\n",
       "308    White  4/10/2010               NaN      IT/IS  Janet King        2.0   \n",
       "\n",
       "     RecruitmentSource  Absences  \n",
       "308  Employee Referral      16.0  "
      ]
     },
     "execution_count": 64,
     "metadata": {},
     "output_type": "execute_result"
    }
   ],
   "source": [
    "# MIN salary record\n",
    "df[df.Salary == 220450.0]"
   ]
  },
  {
   "cell_type": "markdown",
   "id": "actual-protection",
   "metadata": {},
   "source": [
    "### Do the following steps for each column with missing values.\n",
    "* Identity the column.\n",
    "* How much precentage the missing value represents?\n",
    "* What is the best way to handle these missing values and why?\n",
    "* Apply your method to the column."
   ]
  },
  {
   "cell_type": "markdown",
   "id": "f9e604cf",
   "metadata": {},
   "source": [
    "## Identity the  missing columns"
   ]
  },
  {
   "cell_type": "code",
   "execution_count": 65,
   "id": "e8aa539c",
   "metadata": {},
   "outputs": [
    {
     "data": {
      "text/plain": [
       "Employee_Name         93\n",
       "EmpID                  0\n",
       "Salary                62\n",
       "PositionID             0\n",
       "Position               0\n",
       "DOB                   31\n",
       "Sex                   62\n",
       "MaritalDesc            0\n",
       "RaceDesc               0\n",
       "DateofHire             0\n",
       "DateofTermination    207\n",
       "Department             0\n",
       "ManagerName            0\n",
       "ManagerID              8\n",
       "RecruitmentSource      0\n",
       "Absences              31\n",
       "dtype: int64"
      ]
     },
     "execution_count": 65,
     "metadata": {},
     "output_type": "execute_result"
    }
   ],
   "source": [
    "missi = df.isna().sum()\n",
    "missi"
   ]
  },
  {
   "cell_type": "code",
   "execution_count": 66,
   "id": "009ecd49",
   "metadata": {},
   "outputs": [
    {
     "data": {
      "text/plain": [
       "<AxesSubplot: >"
      ]
     },
     "execution_count": 66,
     "metadata": {},
     "output_type": "execute_result"
    },
    {
     "data": {
      "image/png": "[encoded data removed]",
      "text/plain": [
       "<Figure size 640x480 with 1 Axes>"
      ]
     },
     "metadata": {},
     "output_type": "display_data"
    }
   ],
   "source": [
    "df.isnull().sum().plot(kind=\"barh\")"
   ]
  },
  {
   "cell_type": "code",
   "execution_count": null,
   "id": "2e8e2b76",
   "metadata": {},
   "outputs": [],
   "source": []
  },
  {
   "cell_type": "code",
   "execution_count": null,
   "id": "a6346b71",
   "metadata": {},
   "outputs": [],
   "source": []
  },
  {
   "cell_type": "code",
   "execution_count": 67,
   "id": "59dfdf58",
   "metadata": {},
   "outputs": [],
   "source": [
    "df3 = df.copy()"
   ]
  },
  {
   "cell_type": "markdown",
   "id": "e866916e",
   "metadata": {},
   "source": [
    "## Filling the missing names with their employee IDs"
   ]
  },
  {
   "cell_type": "code",
   "execution_count": 68,
   "id": "b13e13cb",
   "metadata": {},
   "outputs": [
    {
     "data": {
      "text/plain": [
       "0"
      ]
     },
     "execution_count": 68,
     "metadata": {},
     "output_type": "execute_result"
    }
   ],
   "source": [
    "df3.EmpID.duplicated().sum()"
   ]
  },
  {
   "cell_type": "code",
   "execution_count": 69,
   "id": "67c04355",
   "metadata": {},
   "outputs": [],
   "source": [
    "df3[\"Employee_Name\"].fillna(df3[\"EmpID\"] , inplace=True)"
   ]
  },
  {
   "cell_type": "code",
   "execution_count": 70,
   "id": "f4b44015",
   "metadata": {},
   "outputs": [
    {
     "data": {
      "text/plain": [
       "Employee_Name          0\n",
       "EmpID                  0\n",
       "Salary                62\n",
       "PositionID             0\n",
       "Position               0\n",
       "DOB                   31\n",
       "Sex                   62\n",
       "MaritalDesc            0\n",
       "RaceDesc               0\n",
       "DateofHire             0\n",
       "DateofTermination    207\n",
       "Department             0\n",
       "ManagerName            0\n",
       "ManagerID              8\n",
       "RecruitmentSource      0\n",
       "Absences              31\n",
       "dtype: int64"
      ]
     },
     "execution_count": 70,
     "metadata": {},
     "output_type": "execute_result"
    }
   ],
   "source": [
    "df3.isna().sum()"
   ]
  },
  {
   "cell_type": "code",
   "execution_count": 71,
   "id": "6ef43acf",
   "metadata": {},
   "outputs": [
    {
     "data": {
      "text/html": [
       "<div>\n",
       "<style scoped>\n",
       "    .dataframe tbody tr th:only-of-type {\n",
       "        vertical-align: middle;\n",
       "    }\n",
       "\n",
       "    .dataframe tbody tr th {\n",
       "        vertical-align: top;\n",
       "    }\n",
       "\n",
       "    .dataframe thead th {\n",
       "        text-align: right;\n",
       "    }\n",
       "</style>\n",
       "<table border=\"1\" class=\"dataframe\">\n",
       "  <thead>\n",
       "    <tr style=\"text-align: right;\">\n",
       "      <th></th>\n",
       "      <th>Employee_Name</th>\n",
       "      <th>EmpID</th>\n",
       "      <th>Salary</th>\n",
       "      <th>PositionID</th>\n",
       "      <th>Position</th>\n",
       "      <th>DOB</th>\n",
       "      <th>Sex</th>\n",
       "      <th>MaritalDesc</th>\n",
       "      <th>RaceDesc</th>\n",
       "      <th>DateofHire</th>\n",
       "      <th>DateofTermination</th>\n",
       "      <th>Department</th>\n",
       "      <th>ManagerName</th>\n",
       "      <th>ManagerID</th>\n",
       "      <th>RecruitmentSource</th>\n",
       "      <th>Absences</th>\n",
       "    </tr>\n",
       "  </thead>\n",
       "  <tbody>\n",
       "    <tr>\n",
       "      <th>298</th>\n",
       "      <td>10172</td>\n",
       "      <td>10172</td>\n",
       "      <td>NaN</td>\n",
       "      <td>22</td>\n",
       "      <td>Senior BI Developer</td>\n",
       "      <td>07/08/81</td>\n",
       "      <td>M</td>\n",
       "      <td>Single</td>\n",
       "      <td>Asian</td>\n",
       "      <td>2/15/2017</td>\n",
       "      <td>NaN</td>\n",
       "      <td>IT/IS</td>\n",
       "      <td>Brian Champaigne</td>\n",
       "      <td>13.0</td>\n",
       "      <td>Indeed</td>\n",
       "      <td>17.0</td>\n",
       "    </tr>\n",
       "    <tr>\n",
       "      <th>26</th>\n",
       "      <td>Boutwell, Bonalyn</td>\n",
       "      <td>10081</td>\n",
       "      <td>106367.0</td>\n",
       "      <td>26</td>\n",
       "      <td>Sr. Accountant</td>\n",
       "      <td>04/04/87</td>\n",
       "      <td>F</td>\n",
       "      <td>Married</td>\n",
       "      <td>Black or African American</td>\n",
       "      <td>2/16/2015</td>\n",
       "      <td>NaN</td>\n",
       "      <td>Admin Offices</td>\n",
       "      <td>Brandon R. LeBlanc</td>\n",
       "      <td>3.0</td>\n",
       "      <td>Diversity Job Fair</td>\n",
       "      <td>4.0</td>\n",
       "    </tr>\n",
       "    <tr>\n",
       "      <th>80</th>\n",
       "      <td>Eaton, Marianne</td>\n",
       "      <td>10064</td>\n",
       "      <td>NaN</td>\n",
       "      <td>19</td>\n",
       "      <td>Production Technician I</td>\n",
       "      <td>09/05/91</td>\n",
       "      <td>F</td>\n",
       "      <td>Married</td>\n",
       "      <td>White</td>\n",
       "      <td>4/4/2011</td>\n",
       "      <td>6/6/2017</td>\n",
       "      <td>Production</td>\n",
       "      <td>Kissy Sullivan</td>\n",
       "      <td>20.0</td>\n",
       "      <td>Google Search</td>\n",
       "      <td>7.0</td>\n",
       "    </tr>\n",
       "    <tr>\n",
       "      <th>84</th>\n",
       "      <td>Estremera, Miguel</td>\n",
       "      <td>10280</td>\n",
       "      <td>60340.0</td>\n",
       "      <td>19</td>\n",
       "      <td>Production Technician I</td>\n",
       "      <td>NaN</td>\n",
       "      <td>NaN</td>\n",
       "      <td>Single</td>\n",
       "      <td>White</td>\n",
       "      <td>4/2/2012</td>\n",
       "      <td>9/27/2018</td>\n",
       "      <td>Production</td>\n",
       "      <td>Michael Albert</td>\n",
       "      <td>22.0</td>\n",
       "      <td>Google Search</td>\n",
       "      <td>16.0</td>\n",
       "    </tr>\n",
       "    <tr>\n",
       "      <th>180</th>\n",
       "      <td>Martin, Sandra</td>\n",
       "      <td>10110</td>\n",
       "      <td>105688.0</td>\n",
       "      <td>24</td>\n",
       "      <td>Software Engineer</td>\n",
       "      <td>11/07/87</td>\n",
       "      <td>F</td>\n",
       "      <td>Single</td>\n",
       "      <td>Asian</td>\n",
       "      <td>11/11/2013</td>\n",
       "      <td>NaN</td>\n",
       "      <td>Software Engineering</td>\n",
       "      <td>Alex Sweetwater</td>\n",
       "      <td>10.0</td>\n",
       "      <td>Google Search</td>\n",
       "      <td>14.0</td>\n",
       "    </tr>\n",
       "  </tbody>\n",
       "</table>\n",
       "</div>"
      ],
      "text/plain": [
       "         Employee_Name  EmpID    Salary  PositionID                 Position  \\\n",
       "298              10172  10172       NaN          22      Senior BI Developer   \n",
       "26   Boutwell, Bonalyn  10081  106367.0          26           Sr. Accountant   \n",
       "80     Eaton, Marianne  10064       NaN          19  Production Technician I   \n",
       "84   Estremera, Miguel  10280   60340.0          19  Production Technician I   \n",
       "180     Martin, Sandra  10110  105688.0          24        Software Engineer   \n",
       "\n",
       "          DOB  Sex MaritalDesc                   RaceDesc  DateofHire  \\\n",
       "298  07/08/81   M       Single                      Asian   2/15/2017   \n",
       "26   04/04/87    F     Married  Black or African American   2/16/2015   \n",
       "80   09/05/91    F     Married                      White    4/4/2011   \n",
       "84        NaN  NaN      Single                      White    4/2/2012   \n",
       "180  11/07/87    F      Single                      Asian  11/11/2013   \n",
       "\n",
       "    DateofTermination            Department         ManagerName  ManagerID  \\\n",
       "298               NaN                 IT/IS    Brian Champaigne       13.0   \n",
       "26                NaN         Admin Offices  Brandon R. LeBlanc        3.0   \n",
       "80           6/6/2017     Production             Kissy Sullivan       20.0   \n",
       "84          9/27/2018     Production             Michael Albert       22.0   \n",
       "180               NaN  Software Engineering     Alex Sweetwater       10.0   \n",
       "\n",
       "      RecruitmentSource  Absences  \n",
       "298              Indeed      17.0  \n",
       "26   Diversity Job Fair       4.0  \n",
       "80        Google Search       7.0  \n",
       "84        Google Search      16.0  \n",
       "180       Google Search      14.0  "
      ]
     },
     "execution_count": 71,
     "metadata": {},
     "output_type": "execute_result"
    }
   ],
   "source": [
    "df3.sample(5)"
   ]
  },
  {
   "cell_type": "code",
   "execution_count": 72,
   "id": "3896c2d6",
   "metadata": {},
   "outputs": [
    {
     "data": {
      "text/plain": [
       "0"
      ]
     },
     "execution_count": 72,
     "metadata": {},
     "output_type": "execute_result"
    }
   ],
   "source": [
    "df3.Employee_Name.duplicated().sum()"
   ]
  },
  {
   "cell_type": "markdown",
   "id": "9a77d7a4",
   "metadata": {},
   "source": [
    "## Fill the missing values in the Absences field with the mean"
   ]
  },
  {
   "cell_type": "code",
   "execution_count": 73,
   "id": "a77ab6fb",
   "metadata": {},
   "outputs": [
    {
     "data": {
      "text/plain": [
       "(20.0, 1.0, 10.128571428571428)"
      ]
     },
     "execution_count": 73,
     "metadata": {},
     "output_type": "execute_result"
    }
   ],
   "source": [
    "df3.Absences.max() , df3.Absences.min() , df3.Absences.mean()"
   ]
  },
  {
   "cell_type": "code",
   "execution_count": 74,
   "id": "719e8353",
   "metadata": {},
   "outputs": [
    {
     "data": {
      "text/plain": [
       "10.128571428571428"
      ]
     },
     "execution_count": 74,
     "metadata": {},
     "output_type": "execute_result"
    }
   ],
   "source": [
    "df3.Absences.mean()"
   ]
  },
  {
   "cell_type": "code",
   "execution_count": 75,
   "id": "6d817c57",
   "metadata": {},
   "outputs": [],
   "source": [
    "df3.Absences.fillna(df3.Absences.mean(),inplace=True)"
   ]
  },
  {
   "cell_type": "code",
   "execution_count": 76,
   "id": "ef177dee",
   "metadata": {},
   "outputs": [
    {
     "data": {
      "text/plain": [
       "Employee_Name          0\n",
       "EmpID                  0\n",
       "Salary                62\n",
       "PositionID             0\n",
       "Position               0\n",
       "DOB                   31\n",
       "Sex                   62\n",
       "MaritalDesc            0\n",
       "RaceDesc               0\n",
       "DateofHire             0\n",
       "DateofTermination    207\n",
       "Department             0\n",
       "ManagerName            0\n",
       "ManagerID              8\n",
       "RecruitmentSource      0\n",
       "Absences               0\n",
       "dtype: int64"
      ]
     },
     "execution_count": 76,
     "metadata": {},
     "output_type": "execute_result"
    }
   ],
   "source": [
    "df3.isna().sum()"
   ]
  },
  {
   "cell_type": "code",
   "execution_count": 77,
   "id": "7b1b59e5",
   "metadata": {},
   "outputs": [
    {
     "data": {
      "text/plain": [
       "dtype('float64')"
      ]
     },
     "execution_count": 77,
     "metadata": {},
     "output_type": "execute_result"
    }
   ],
   "source": [
    "df3.Absences.dtype"
   ]
  },
  {
   "cell_type": "code",
   "execution_count": 78,
   "id": "d8243a48",
   "metadata": {},
   "outputs": [
    {
     "data": {
      "text/plain": [
       "0       1.0\n",
       "1      17.0\n",
       "2       3.0\n",
       "3      15.0\n",
       "4       2.0\n",
       "       ... \n",
       "306    13.0\n",
       "307     4.0\n",
       "308    16.0\n",
       "309    10.1\n",
       "310     2.0\n",
       "Name: Absences, Length: 311, dtype: float64"
      ]
     },
     "execution_count": 78,
     "metadata": {},
     "output_type": "execute_result"
    }
   ],
   "source": [
    "df3.Absences = df3.Absences.round(1)\n",
    "df3.Absences"
   ]
  },
  {
   "cell_type": "markdown",
   "id": "a1bf2786",
   "metadata": {},
   "source": [
    "## Assign [Unknown] to the missing values in the Sex Field "
   ]
  },
  {
   "cell_type": "code",
   "execution_count": 79,
   "id": "b6522553",
   "metadata": {},
   "outputs": [],
   "source": [
    "s = \"Unknown\""
   ]
  },
  {
   "cell_type": "code",
   "execution_count": null,
   "id": "c19c5be6",
   "metadata": {},
   "outputs": [],
   "source": []
  },
  {
   "cell_type": "code",
   "execution_count": 80,
   "id": "7843e654",
   "metadata": {},
   "outputs": [],
   "source": [
    "df3.Sex.fillna(s,inplace=True)"
   ]
  },
  {
   "cell_type": "code",
   "execution_count": 81,
   "id": "a20a2076",
   "metadata": {},
   "outputs": [
    {
     "data": {
      "text/plain": [
       "Employee_Name          0\n",
       "EmpID                  0\n",
       "Salary                62\n",
       "PositionID             0\n",
       "Position               0\n",
       "DOB                   31\n",
       "Sex                    0\n",
       "MaritalDesc            0\n",
       "RaceDesc               0\n",
       "DateofHire             0\n",
       "DateofTermination    207\n",
       "Department             0\n",
       "ManagerName            0\n",
       "ManagerID              8\n",
       "RecruitmentSource      0\n",
       "Absences               0\n",
       "dtype: int64"
      ]
     },
     "execution_count": 81,
     "metadata": {},
     "output_type": "execute_result"
    }
   ],
   "source": [
    "df3.isna().sum()"
   ]
  },
  {
   "cell_type": "code",
   "execution_count": 82,
   "id": "58414c64",
   "metadata": {},
   "outputs": [
    {
     "data": {
      "text/plain": [
       "F          141\n",
       "M          108\n",
       "Unknown     62\n",
       "Name: Sex, dtype: int64"
      ]
     },
     "execution_count": 82,
     "metadata": {},
     "output_type": "execute_result"
    }
   ],
   "source": [
    "df3.Sex.value_counts()"
   ]
  },
  {
   "cell_type": "code",
   "execution_count": null,
   "id": "321c9a32",
   "metadata": {},
   "outputs": [],
   "source": []
  },
  {
   "cell_type": "code",
   "execution_count": null,
   "id": "0d3fa019",
   "metadata": {},
   "outputs": [],
   "source": []
  },
  {
   "cell_type": "code",
   "execution_count": null,
   "id": "4c8bd6d5",
   "metadata": {},
   "outputs": [],
   "source": []
  },
  {
   "cell_type": "markdown",
   "id": "f3415f31",
   "metadata": {},
   "source": [
    "## Assign [Unknown] to the missing values in the DOB Field \n"
   ]
  },
  {
   "cell_type": "code",
   "execution_count": 83,
   "id": "5b6d4eac",
   "metadata": {},
   "outputs": [],
   "source": [
    "df3.DOB.fillna(s,inplace=True)"
   ]
  },
  {
   "cell_type": "code",
   "execution_count": 84,
   "id": "ba4be41c",
   "metadata": {},
   "outputs": [
    {
     "data": {
      "text/plain": [
       "Employee_Name          0\n",
       "EmpID                  0\n",
       "Salary                62\n",
       "PositionID             0\n",
       "Position               0\n",
       "DOB                    0\n",
       "Sex                    0\n",
       "MaritalDesc            0\n",
       "RaceDesc               0\n",
       "DateofHire             0\n",
       "DateofTermination    207\n",
       "Department             0\n",
       "ManagerName            0\n",
       "ManagerID              8\n",
       "RecruitmentSource      0\n",
       "Absences               0\n",
       "dtype: int64"
      ]
     },
     "execution_count": 84,
     "metadata": {},
     "output_type": "execute_result"
    }
   ],
   "source": [
    "df3.isna().sum()"
   ]
  },
  {
   "cell_type": "code",
   "execution_count": 85,
   "id": "f8784b3a",
   "metadata": {},
   "outputs": [
    {
     "data": {
      "text/html": [
       "<div>\n",
       "<style scoped>\n",
       "    .dataframe tbody tr th:only-of-type {\n",
       "        vertical-align: middle;\n",
       "    }\n",
       "\n",
       "    .dataframe tbody tr th {\n",
       "        vertical-align: top;\n",
       "    }\n",
       "\n",
       "    .dataframe thead th {\n",
       "        text-align: right;\n",
       "    }\n",
       "</style>\n",
       "<table border=\"1\" class=\"dataframe\">\n",
       "  <thead>\n",
       "    <tr style=\"text-align: right;\">\n",
       "      <th></th>\n",
       "      <th>Employee_Name</th>\n",
       "      <th>EmpID</th>\n",
       "      <th>Salary</th>\n",
       "      <th>PositionID</th>\n",
       "      <th>Position</th>\n",
       "      <th>DOB</th>\n",
       "      <th>Sex</th>\n",
       "      <th>MaritalDesc</th>\n",
       "      <th>RaceDesc</th>\n",
       "      <th>DateofHire</th>\n",
       "      <th>DateofTermination</th>\n",
       "      <th>Department</th>\n",
       "      <th>ManagerName</th>\n",
       "      <th>ManagerID</th>\n",
       "      <th>RecruitmentSource</th>\n",
       "      <th>Absences</th>\n",
       "    </tr>\n",
       "  </thead>\n",
       "  <tbody>\n",
       "    <tr>\n",
       "      <th>0</th>\n",
       "      <td>Adinolfi, Wilson  K</td>\n",
       "      <td>10026</td>\n",
       "      <td>62506.0</td>\n",
       "      <td>19</td>\n",
       "      <td>Production Technician I</td>\n",
       "      <td>07/10/83</td>\n",
       "      <td>M</td>\n",
       "      <td>Single</td>\n",
       "      <td>White</td>\n",
       "      <td>7/5/2011</td>\n",
       "      <td>NaN</td>\n",
       "      <td>Production</td>\n",
       "      <td>Michael Albert</td>\n",
       "      <td>22.0</td>\n",
       "      <td>LinkedIn</td>\n",
       "      <td>1.0</td>\n",
       "    </tr>\n",
       "    <tr>\n",
       "      <th>1</th>\n",
       "      <td>Ait Sidi, Karthikeyan</td>\n",
       "      <td>10084</td>\n",
       "      <td>104437.0</td>\n",
       "      <td>27</td>\n",
       "      <td>Sr. DBA</td>\n",
       "      <td>05/05/75</td>\n",
       "      <td>M</td>\n",
       "      <td>Married</td>\n",
       "      <td>White</td>\n",
       "      <td>3/30/2015</td>\n",
       "      <td>6/16/2016</td>\n",
       "      <td>IT/IS</td>\n",
       "      <td>Simon Roup</td>\n",
       "      <td>4.0</td>\n",
       "      <td>Indeed</td>\n",
       "      <td>17.0</td>\n",
       "    </tr>\n",
       "    <tr>\n",
       "      <th>2</th>\n",
       "      <td>Akinkuolie, Sarah</td>\n",
       "      <td>10196</td>\n",
       "      <td>64955.0</td>\n",
       "      <td>20</td>\n",
       "      <td>Production Technician II</td>\n",
       "      <td>09/19/88</td>\n",
       "      <td>F</td>\n",
       "      <td>Married</td>\n",
       "      <td>White</td>\n",
       "      <td>7/5/2011</td>\n",
       "      <td>9/24/2012</td>\n",
       "      <td>Production</td>\n",
       "      <td>Kissy Sullivan</td>\n",
       "      <td>20.0</td>\n",
       "      <td>LinkedIn</td>\n",
       "      <td>3.0</td>\n",
       "    </tr>\n",
       "    <tr>\n",
       "      <th>3</th>\n",
       "      <td>Alagbe,Trina</td>\n",
       "      <td>10088</td>\n",
       "      <td>64991.0</td>\n",
       "      <td>19</td>\n",
       "      <td>Production Technician I</td>\n",
       "      <td>Unknown</td>\n",
       "      <td>F</td>\n",
       "      <td>Married</td>\n",
       "      <td>White</td>\n",
       "      <td>1/7/2008</td>\n",
       "      <td>NaN</td>\n",
       "      <td>Production</td>\n",
       "      <td>Elijiah Gray</td>\n",
       "      <td>16.0</td>\n",
       "      <td>Indeed</td>\n",
       "      <td>15.0</td>\n",
       "    </tr>\n",
       "    <tr>\n",
       "      <th>4</th>\n",
       "      <td>10069</td>\n",
       "      <td>10069</td>\n",
       "      <td>50825.0</td>\n",
       "      <td>19</td>\n",
       "      <td>Production Technician I</td>\n",
       "      <td>09/08/89</td>\n",
       "      <td>F</td>\n",
       "      <td>Divorced</td>\n",
       "      <td>White</td>\n",
       "      <td>7/11/2011</td>\n",
       "      <td>9/6/2016</td>\n",
       "      <td>Production</td>\n",
       "      <td>Webster Butler</td>\n",
       "      <td>39.0</td>\n",
       "      <td>Google Search</td>\n",
       "      <td>2.0</td>\n",
       "    </tr>\n",
       "  </tbody>\n",
       "</table>\n",
       "</div>"
      ],
      "text/plain": [
       "              Employee_Name  EmpID    Salary  PositionID  \\\n",
       "0       Adinolfi, Wilson  K  10026   62506.0          19   \n",
       "1  Ait Sidi, Karthikeyan     10084  104437.0          27   \n",
       "2         Akinkuolie, Sarah  10196   64955.0          20   \n",
       "3              Alagbe,Trina  10088   64991.0          19   \n",
       "4                     10069  10069   50825.0          19   \n",
       "\n",
       "                   Position       DOB Sex MaritalDesc RaceDesc DateofHire  \\\n",
       "0   Production Technician I  07/10/83  M       Single    White   7/5/2011   \n",
       "1                   Sr. DBA  05/05/75  M      Married    White  3/30/2015   \n",
       "2  Production Technician II  09/19/88   F     Married    White   7/5/2011   \n",
       "3   Production Technician I   Unknown   F     Married    White   1/7/2008   \n",
       "4   Production Technician I  09/08/89   F    Divorced    White  7/11/2011   \n",
       "\n",
       "  DateofTermination         Department     ManagerName  ManagerID  \\\n",
       "0               NaN  Production         Michael Albert       22.0   \n",
       "1         6/16/2016              IT/IS      Simon Roup        4.0   \n",
       "2         9/24/2012  Production         Kissy Sullivan       20.0   \n",
       "3               NaN  Production           Elijiah Gray       16.0   \n",
       "4          9/6/2016  Production         Webster Butler       39.0   \n",
       "\n",
       "  RecruitmentSource  Absences  \n",
       "0          LinkedIn       1.0  \n",
       "1            Indeed      17.0  \n",
       "2          LinkedIn       3.0  \n",
       "3            Indeed      15.0  \n",
       "4     Google Search       2.0  "
      ]
     },
     "execution_count": 85,
     "metadata": {},
     "output_type": "execute_result"
    }
   ],
   "source": [
    "df3.head()"
   ]
  },
  {
   "cell_type": "markdown",
   "id": "e38f1663",
   "metadata": {},
   "source": [
    "## Average salary for Each Position"
   ]
  },
  {
   "cell_type": "code",
   "execution_count": 86,
   "id": "1812981a",
   "metadata": {},
   "outputs": [],
   "source": [
    "avg_salary_by_Position =df3.groupby('Position')['Salary'].mean()"
   ]
  },
  {
   "cell_type": "code",
   "execution_count": 87,
   "id": "19927b38",
   "metadata": {},
   "outputs": [
    {
     "data": {
      "text/plain": [
       "Position\n",
       "Accountant I                     63507.666667\n",
       "Administrative Assistant         52280.000000\n",
       "Area Sales Manager               64245.272727\n",
       "BI Developer                     95465.000000\n",
       "BI Director                     110929.000000\n",
       "CIO                             220450.000000\n",
       "Data Analyst                     89932.571429\n",
       "Data Analyst                              NaN\n",
       "Data Architect                            NaN\n",
       "Database Administrator          107124.750000\n",
       "Director of Operations          170500.000000\n",
       "Director of Sales               180000.000000\n",
       "Enterprise Architect                      NaN\n",
       "IT Director                     178000.000000\n",
       "IT Manager - DB                           NaN\n",
       "IT Manager - Infra              157000.000000\n",
       "IT Manager - Support            138888.000000\n",
       "IT Support                       65431.750000\n",
       "Network Engineer                 61605.000000\n",
       "President & CEO                           NaN\n",
       "Principal Data Architect        120000.000000\n",
       "Production Manager               74398.454545\n",
       "Production Technician I          55534.357143\n",
       "Production Technician II         64818.333333\n",
       "Sales Manager                    69240.000000\n",
       "Senior BI Developer              81584.000000\n",
       "Shared Services Manager                   NaN\n",
       "Software Engineer                97088.444444\n",
       "Software Engineering Manager     77692.000000\n",
       "Sr. Accountant                  102859.000000\n",
       "Sr. DBA                         104437.000000\n",
       "Sr. Network Engineer             93256.250000\n",
       "Name: Salary, dtype: float64"
      ]
     },
     "execution_count": 87,
     "metadata": {},
     "output_type": "execute_result"
    }
   ],
   "source": [
    "avg_salary_by_Position"
   ]
  },
  {
   "cell_type": "code",
   "execution_count": 88,
   "id": "160b83ec",
   "metadata": {},
   "outputs": [
    {
     "data": {
      "text/plain": [
       "Position\n",
       "Data Analyst              NaN\n",
       "Data Architect            NaN\n",
       "Enterprise Architect      NaN\n",
       "IT Manager - DB           NaN\n",
       "President & CEO           NaN\n",
       "Shared Services Manager   NaN\n",
       "Name: Salary, dtype: float64"
      ]
     },
     "execution_count": 88,
     "metadata": {},
     "output_type": "execute_result"
    }
   ],
   "source": [
    "avg_salary_by_Position[avg_salary_by_Position.isna()]"
   ]
  },
  {
   "cell_type": "code",
   "execution_count": 89,
   "id": "6279584a",
   "metadata": {},
   "outputs": [
    {
     "data": {
      "text/html": [
       "<div>\n",
       "<style scoped>\n",
       "    .dataframe tbody tr th:only-of-type {\n",
       "        vertical-align: middle;\n",
       "    }\n",
       "\n",
       "    .dataframe tbody tr th {\n",
       "        vertical-align: top;\n",
       "    }\n",
       "\n",
       "    .dataframe thead th {\n",
       "        text-align: right;\n",
       "    }\n",
       "</style>\n",
       "<table border=\"1\" class=\"dataframe\">\n",
       "  <thead>\n",
       "    <tr style=\"text-align: right;\">\n",
       "      <th></th>\n",
       "      <th>Employee_Name</th>\n",
       "      <th>EmpID</th>\n",
       "      <th>Salary</th>\n",
       "      <th>PositionID</th>\n",
       "      <th>Position</th>\n",
       "      <th>DOB</th>\n",
       "      <th>Sex</th>\n",
       "      <th>MaritalDesc</th>\n",
       "      <th>RaceDesc</th>\n",
       "      <th>DateofHire</th>\n",
       "      <th>DateofTermination</th>\n",
       "      <th>Department</th>\n",
       "      <th>ManagerName</th>\n",
       "      <th>ManagerID</th>\n",
       "      <th>RecruitmentSource</th>\n",
       "      <th>Absences</th>\n",
       "    </tr>\n",
       "  </thead>\n",
       "  <tbody>\n",
       "    <tr>\n",
       "      <th>308</th>\n",
       "      <td>10010</td>\n",
       "      <td>10010</td>\n",
       "      <td>220450.0</td>\n",
       "      <td>6</td>\n",
       "      <td>CIO</td>\n",
       "      <td>Unknown</td>\n",
       "      <td>F</td>\n",
       "      <td>Single</td>\n",
       "      <td>White</td>\n",
       "      <td>4/10/2010</td>\n",
       "      <td>NaN</td>\n",
       "      <td>IT/IS</td>\n",
       "      <td>Janet King</td>\n",
       "      <td>2.0</td>\n",
       "      <td>Employee Referral</td>\n",
       "      <td>16.0</td>\n",
       "    </tr>\n",
       "  </tbody>\n",
       "</table>\n",
       "</div>"
      ],
      "text/plain": [
       "    Employee_Name  EmpID    Salary  PositionID Position      DOB Sex  \\\n",
       "308         10010  10010  220450.0           6      CIO  Unknown   F   \n",
       "\n",
       "    MaritalDesc RaceDesc DateofHire DateofTermination Department ManagerName  \\\n",
       "308      Single    White  4/10/2010               NaN      IT/IS  Janet King   \n",
       "\n",
       "     ManagerID  RecruitmentSource  Absences  \n",
       "308        2.0  Employee Referral      16.0  "
      ]
     },
     "execution_count": 89,
     "metadata": {},
     "output_type": "execute_result"
    }
   ],
   "source": [
    "df3[df3.Salary == 220450.0]"
   ]
  },
  {
   "cell_type": "markdown",
   "id": "8af135e2",
   "metadata": {},
   "source": [
    "## Fill missing values in  the salary feild with avg salary for each position"
   ]
  },
  {
   "cell_type": "code",
   "execution_count": 90,
   "id": "3c9e7878",
   "metadata": {},
   "outputs": [],
   "source": [
    "df3['Salary'].fillna(df3['Position'].map(avg_salary_by_Position),inplace=True)"
   ]
  },
  {
   "cell_type": "code",
   "execution_count": 91,
   "id": "cc5bf5ac",
   "metadata": {},
   "outputs": [
    {
     "data": {
      "text/plain": [
       "Employee_Name          0\n",
       "EmpID                  0\n",
       "Salary                 7\n",
       "PositionID             0\n",
       "Position               0\n",
       "DOB                    0\n",
       "Sex                    0\n",
       "MaritalDesc            0\n",
       "RaceDesc               0\n",
       "DateofHire             0\n",
       "DateofTermination    207\n",
       "Department             0\n",
       "ManagerName            0\n",
       "ManagerID              8\n",
       "RecruitmentSource      0\n",
       "Absences               0\n",
       "dtype: int64"
      ]
     },
     "execution_count": 91,
     "metadata": {},
     "output_type": "execute_result"
    }
   ],
   "source": [
    "df3.isna().sum()"
   ]
  },
  {
   "cell_type": "markdown",
   "id": "303b10c0",
   "metadata": {},
   "source": [
    "## ManagerID"
   ]
  },
  {
   "cell_type": "code",
   "execution_count": 92,
   "id": "297b7319",
   "metadata": {},
   "outputs": [
    {
     "data": {
      "text/plain": [
       "dtype('float64')"
      ]
     },
     "execution_count": 92,
     "metadata": {},
     "output_type": "execute_result"
    }
   ],
   "source": [
    "df3.ManagerID.dtype"
   ]
  },
  {
   "cell_type": "code",
   "execution_count": 93,
   "id": "f93e2c24",
   "metadata": {},
   "outputs": [
    {
     "data": {
      "text/plain": [
       "18.0    22\n",
       "20.0    22\n",
       "16.0    22\n",
       "12.0    22\n",
       "19.0    21\n",
       "14.0    21\n",
       "22.0    21\n",
       "11.0    21\n",
       "2.0     19\n",
       "4.0     17\n",
       "7.0     14\n",
       "17.0    14\n",
       "39.0    13\n",
       "21.0    13\n",
       "10.0     9\n",
       "13.0     8\n",
       "5.0      7\n",
       "1.0      6\n",
       "6.0      4\n",
       "15.0     3\n",
       "9.0      2\n",
       "3.0      1\n",
       "30.0     1\n",
       "Name: ManagerID, dtype: int64"
      ]
     },
     "execution_count": 93,
     "metadata": {},
     "output_type": "execute_result"
    }
   ],
   "source": [
    "df3.ManagerID.value_counts()"
   ]
  },
  {
   "cell_type": "code",
   "execution_count": 94,
   "id": "c761e64c",
   "metadata": {},
   "outputs": [
    {
     "data": {
      "text/plain": [
       "0    12.0\n",
       "1    16.0\n",
       "2    18.0\n",
       "3    20.0\n",
       "Name: ManagerID, dtype: float64"
      ]
     },
     "execution_count": 94,
     "metadata": {},
     "output_type": "execute_result"
    }
   ],
   "source": [
    "df3.ManagerID.mode()"
   ]
  },
  {
   "cell_type": "code",
   "execution_count": 95,
   "id": "731c87e6",
   "metadata": {},
   "outputs": [
    {
     "data": {
      "text/plain": [
       "12.0"
      ]
     },
     "execution_count": 95,
     "metadata": {},
     "output_type": "execute_result"
    }
   ],
   "source": [
    "df3.ManagerID.mode()[0]"
   ]
  },
  {
   "cell_type": "code",
   "execution_count": 96,
   "id": "059041c8",
   "metadata": {},
   "outputs": [],
   "source": [
    "df3.ManagerID.fillna(df3.ManagerID.mode()[0],inplace=True)"
   ]
  },
  {
   "cell_type": "code",
   "execution_count": 97,
   "id": "c335c7c1",
   "metadata": {},
   "outputs": [
    {
     "data": {
      "text/plain": [
       "Employee_Name          0\n",
       "EmpID                  0\n",
       "Salary                 7\n",
       "PositionID             0\n",
       "Position               0\n",
       "DOB                    0\n",
       "Sex                    0\n",
       "MaritalDesc            0\n",
       "RaceDesc               0\n",
       "DateofHire             0\n",
       "DateofTermination    207\n",
       "Department             0\n",
       "ManagerName            0\n",
       "ManagerID              0\n",
       "RecruitmentSource      0\n",
       "Absences               0\n",
       "dtype: int64"
      ]
     },
     "execution_count": 97,
     "metadata": {},
     "output_type": "execute_result"
    }
   ],
   "source": [
    "df3.isna().sum()"
   ]
  },
  {
   "cell_type": "markdown",
   "id": "073af38a",
   "metadata": {},
   "source": [
    "## Date of Termination"
   ]
  },
  {
   "cell_type": "code",
   "execution_count": 101,
   "id": "8002adaa",
   "metadata": {},
   "outputs": [
    {
     "data": {
      "text/plain": [
       "dtype('<M8[ns]')"
      ]
     },
     "execution_count": 101,
     "metadata": {},
     "output_type": "execute_result"
    }
   ],
   "source": [
    "df3.DateofTermination.dtype"
   ]
  },
  {
   "cell_type": "code",
   "execution_count": 102,
   "id": "6a5f2131",
   "metadata": {},
   "outputs": [],
   "source": [
    "df3['DateofTermination'] = pd.to_datetime(df3['DateofTermination'])"
   ]
  },
  {
   "cell_type": "code",
   "execution_count": 103,
   "id": "a76589e5",
   "metadata": {},
   "outputs": [
    {
     "data": {
      "text/plain": [
       "dtype('<M8[ns]')"
      ]
     },
     "execution_count": 103,
     "metadata": {},
     "output_type": "execute_result"
    }
   ],
   "source": [
    "df3['DateofTermination'].dtype"
   ]
  },
  {
   "cell_type": "code",
   "execution_count": null,
   "id": "f1f0b5a4",
   "metadata": {},
   "outputs": [],
   "source": []
  },
  {
   "cell_type": "code",
   "execution_count": 139,
   "id": "d1ca8a66",
   "metadata": {},
   "outputs": [],
   "source": [
    "#years = df3['DateofTermination'].dt.year.value_counts()\n",
    "#years"
   ]
  },
  {
   "cell_type": "code",
   "execution_count": 140,
   "id": "63527568",
   "metadata": {},
   "outputs": [
    {
     "data": {
      "text/plain": [
       "0"
      ]
     },
     "execution_count": 140,
     "metadata": {},
     "output_type": "execute_result"
    }
   ],
   "source": [
    "df3.DateofTermination.isna().sum()"
   ]
  },
  {
   "cell_type": "code",
   "execution_count": 143,
   "id": "f41a7a55",
   "metadata": {},
   "outputs": [],
   "source": [
    "#df3.DateofTermination = df3.DateofTermination.fillna(\"2010|2011\")"
   ]
  },
  {
   "cell_type": "code",
   "execution_count": 144,
   "id": "7384be8a",
   "metadata": {},
   "outputs": [
    {
     "data": {
      "text/html": [
       "<div>\n",
       "<style scoped>\n",
       "    .dataframe tbody tr th:only-of-type {\n",
       "        vertical-align: middle;\n",
       "    }\n",
       "\n",
       "    .dataframe tbody tr th {\n",
       "        vertical-align: top;\n",
       "    }\n",
       "\n",
       "    .dataframe thead th {\n",
       "        text-align: right;\n",
       "    }\n",
       "</style>\n",
       "<table border=\"1\" class=\"dataframe\">\n",
       "  <thead>\n",
       "    <tr style=\"text-align: right;\">\n",
       "      <th></th>\n",
       "      <th>Employee_Name</th>\n",
       "      <th>EmpID</th>\n",
       "      <th>Salary</th>\n",
       "      <th>PositionID</th>\n",
       "      <th>Position</th>\n",
       "      <th>DOB</th>\n",
       "      <th>Sex</th>\n",
       "      <th>MaritalDesc</th>\n",
       "      <th>RaceDesc</th>\n",
       "      <th>DateofHire</th>\n",
       "      <th>DateofTermination</th>\n",
       "      <th>Department</th>\n",
       "      <th>ManagerName</th>\n",
       "      <th>ManagerID</th>\n",
       "      <th>RecruitmentSource</th>\n",
       "      <th>Absences</th>\n",
       "    </tr>\n",
       "  </thead>\n",
       "  <tbody>\n",
       "    <tr>\n",
       "      <th>310</th>\n",
       "      <td>10271</td>\n",
       "      <td>10271</td>\n",
       "      <td>45046.0</td>\n",
       "      <td>19</td>\n",
       "      <td>Production Technician I</td>\n",
       "      <td>08/17/78</td>\n",
       "      <td>F</td>\n",
       "      <td>Widowed</td>\n",
       "      <td>Asian</td>\n",
       "      <td>9/29/2014</td>\n",
       "      <td>Unknown</td>\n",
       "      <td>Production</td>\n",
       "      <td>David Stanley</td>\n",
       "      <td>14.0</td>\n",
       "      <td>LinkedIn</td>\n",
       "      <td>2.0</td>\n",
       "    </tr>\n",
       "  </tbody>\n",
       "</table>\n",
       "</div>"
      ],
      "text/plain": [
       "    Employee_Name  EmpID   Salary  PositionID                 Position  \\\n",
       "310         10271  10271  45046.0          19  Production Technician I   \n",
       "\n",
       "          DOB Sex MaritalDesc RaceDesc DateofHire DateofTermination  \\\n",
       "310  08/17/78   F     Widowed    Asian  9/29/2014           Unknown   \n",
       "\n",
       "            Department    ManagerName  ManagerID RecruitmentSource  Absences  \n",
       "310  Production         David Stanley       14.0          LinkedIn       2.0  "
      ]
     },
     "execution_count": 144,
     "metadata": {},
     "output_type": "execute_result"
    }
   ],
   "source": [
    "df3.sample()"
   ]
  },
  {
   "cell_type": "code",
   "execution_count": 146,
   "id": "e5bc521e",
   "metadata": {},
   "outputs": [],
   "source": [
    "#df3.DateofTermination == \"2010|2011\""
   ]
  },
  {
   "cell_type": "code",
   "execution_count": 132,
   "id": "9871b93e",
   "metadata": {},
   "outputs": [
    {
     "data": {
      "text/html": [
       "<div>\n",
       "<style scoped>\n",
       "    .dataframe tbody tr th:only-of-type {\n",
       "        vertical-align: middle;\n",
       "    }\n",
       "\n",
       "    .dataframe tbody tr th {\n",
       "        vertical-align: top;\n",
       "    }\n",
       "\n",
       "    .dataframe thead th {\n",
       "        text-align: right;\n",
       "    }\n",
       "</style>\n",
       "<table border=\"1\" class=\"dataframe\">\n",
       "  <thead>\n",
       "    <tr style=\"text-align: right;\">\n",
       "      <th></th>\n",
       "      <th>Employee_Name</th>\n",
       "      <th>EmpID</th>\n",
       "      <th>Salary</th>\n",
       "      <th>PositionID</th>\n",
       "      <th>Position</th>\n",
       "      <th>DOB</th>\n",
       "      <th>Sex</th>\n",
       "      <th>MaritalDesc</th>\n",
       "      <th>RaceDesc</th>\n",
       "      <th>DateofHire</th>\n",
       "      <th>DateofTermination</th>\n",
       "      <th>Department</th>\n",
       "      <th>ManagerName</th>\n",
       "      <th>ManagerID</th>\n",
       "      <th>RecruitmentSource</th>\n",
       "      <th>Absences</th>\n",
       "    </tr>\n",
       "  </thead>\n",
       "  <tbody>\n",
       "    <tr>\n",
       "      <th>0</th>\n",
       "      <td>Adinolfi, Wilson  K</td>\n",
       "      <td>10026</td>\n",
       "      <td>62506.0</td>\n",
       "      <td>19</td>\n",
       "      <td>Production Technician I</td>\n",
       "      <td>07/10/83</td>\n",
       "      <td>M</td>\n",
       "      <td>Single</td>\n",
       "      <td>White</td>\n",
       "      <td>7/5/2011</td>\n",
       "      <td>2010|2011</td>\n",
       "      <td>Production</td>\n",
       "      <td>Michael Albert</td>\n",
       "      <td>22.0</td>\n",
       "      <td>LinkedIn</td>\n",
       "      <td>1.0</td>\n",
       "    </tr>\n",
       "    <tr>\n",
       "      <th>3</th>\n",
       "      <td>Alagbe,Trina</td>\n",
       "      <td>10088</td>\n",
       "      <td>64991.0</td>\n",
       "      <td>19</td>\n",
       "      <td>Production Technician I</td>\n",
       "      <td>Unknown</td>\n",
       "      <td>F</td>\n",
       "      <td>Married</td>\n",
       "      <td>White</td>\n",
       "      <td>1/7/2008</td>\n",
       "      <td>2010|2011</td>\n",
       "      <td>Production</td>\n",
       "      <td>Elijiah Gray</td>\n",
       "      <td>16.0</td>\n",
       "      <td>Indeed</td>\n",
       "      <td>15.0</td>\n",
       "    </tr>\n",
       "    <tr>\n",
       "      <th>5</th>\n",
       "      <td>10002</td>\n",
       "      <td>10002</td>\n",
       "      <td>57568.0</td>\n",
       "      <td>19</td>\n",
       "      <td>Production Technician I</td>\n",
       "      <td>05/22/77</td>\n",
       "      <td>F</td>\n",
       "      <td>Single</td>\n",
       "      <td>White</td>\n",
       "      <td>1/9/2012</td>\n",
       "      <td>2010|2011</td>\n",
       "      <td>Production</td>\n",
       "      <td>Amy Dunn</td>\n",
       "      <td>11.0</td>\n",
       "      <td>LinkedIn</td>\n",
       "      <td>15.0</td>\n",
       "    </tr>\n",
       "    <tr>\n",
       "      <th>6</th>\n",
       "      <td>Andreola, Colby</td>\n",
       "      <td>10194</td>\n",
       "      <td>95660.0</td>\n",
       "      <td>24</td>\n",
       "      <td>Software Engineer</td>\n",
       "      <td>05/24/79</td>\n",
       "      <td>F</td>\n",
       "      <td>Single</td>\n",
       "      <td>White</td>\n",
       "      <td>11/10/2014</td>\n",
       "      <td>2010|2011</td>\n",
       "      <td>Software Engineering</td>\n",
       "      <td>Alex Sweetwater</td>\n",
       "      <td>10.0</td>\n",
       "      <td>LinkedIn</td>\n",
       "      <td>19.0</td>\n",
       "    </tr>\n",
       "    <tr>\n",
       "      <th>7</th>\n",
       "      <td>Athwal, Sam</td>\n",
       "      <td>10062</td>\n",
       "      <td>59365.0</td>\n",
       "      <td>19</td>\n",
       "      <td>Production Technician I</td>\n",
       "      <td>02/18/83</td>\n",
       "      <td>M</td>\n",
       "      <td>Widowed</td>\n",
       "      <td>White</td>\n",
       "      <td>9/30/2013</td>\n",
       "      <td>2010|2011</td>\n",
       "      <td>Production</td>\n",
       "      <td>Ketsia Liebig</td>\n",
       "      <td>19.0</td>\n",
       "      <td>Employee Referral</td>\n",
       "      <td>19.0</td>\n",
       "    </tr>\n",
       "  </tbody>\n",
       "</table>\n",
       "</div>"
      ],
      "text/plain": [
       "         Employee_Name  EmpID   Salary  PositionID                 Position  \\\n",
       "0  Adinolfi, Wilson  K  10026  62506.0          19  Production Technician I   \n",
       "3         Alagbe,Trina  10088  64991.0          19  Production Technician I   \n",
       "5                10002  10002  57568.0          19  Production Technician I   \n",
       "6      Andreola, Colby  10194  95660.0          24        Software Engineer   \n",
       "7          Athwal, Sam  10062  59365.0          19  Production Technician I   \n",
       "\n",
       "        DOB Sex MaritalDesc RaceDesc  DateofHire DateofTermination  \\\n",
       "0  07/10/83  M       Single    White    7/5/2011         2010|2011   \n",
       "3   Unknown   F     Married    White    1/7/2008         2010|2011   \n",
       "5  05/22/77   F      Single    White    1/9/2012         2010|2011   \n",
       "6  05/24/79   F      Single    White  11/10/2014         2010|2011   \n",
       "7  02/18/83  M      Widowed    White   9/30/2013         2010|2011   \n",
       "\n",
       "             Department      ManagerName  ManagerID  RecruitmentSource  \\\n",
       "0     Production          Michael Albert       22.0           LinkedIn   \n",
       "3     Production            Elijiah Gray       16.0             Indeed   \n",
       "5     Production                Amy Dunn       11.0           LinkedIn   \n",
       "6  Software Engineering  Alex Sweetwater       10.0           LinkedIn   \n",
       "7     Production           Ketsia Liebig       19.0  Employee Referral   \n",
       "\n",
       "   Absences  \n",
       "0       1.0  \n",
       "3      15.0  \n",
       "5      15.0  \n",
       "6      19.0  \n",
       "7      19.0  "
      ]
     },
     "execution_count": 132,
     "metadata": {},
     "output_type": "execute_result"
    }
   ],
   "source": [
    "df3[df3.DateofTermination == \"2010|2011\"].head()"
   ]
  },
  {
   "cell_type": "code",
   "execution_count": 147,
   "id": "6e71e99e",
   "metadata": {},
   "outputs": [],
   "source": [
    "df3.DateofTermination.replace(\"2010|2011\",s,inplace=True)"
   ]
  },
  {
   "cell_type": "code",
   "execution_count": 148,
   "id": "72a60872",
   "metadata": {},
   "outputs": [
    {
     "data": {
      "text/plain": [
       "0                  Unknown\n",
       "1      2016-06-16 00:00:00\n",
       "2      2012-09-24 00:00:00\n",
       "3                  Unknown\n",
       "4      2016-09-06 00:00:00\n",
       "              ...         \n",
       "306                Unknown\n",
       "307    2015-09-29 00:00:00\n",
       "308                Unknown\n",
       "309                Unknown\n",
       "310                Unknown\n",
       "Name: DateofTermination, Length: 311, dtype: object"
      ]
     },
     "execution_count": 148,
     "metadata": {},
     "output_type": "execute_result"
    }
   ],
   "source": [
    "df3.DateofTermination"
   ]
  },
  {
   "cell_type": "markdown",
   "id": "152a7fbd",
   "metadata": {},
   "source": [
    "# Salary "
   ]
  },
  {
   "cell_type": "code",
   "execution_count": 118,
   "id": "27479bf4",
   "metadata": {},
   "outputs": [
    {
     "data": {
      "text/plain": [
       "7"
      ]
     },
     "execution_count": 118,
     "metadata": {},
     "output_type": "execute_result"
    }
   ],
   "source": [
    "df3.Salary.isna().sum()"
   ]
  },
  {
   "cell_type": "code",
   "execution_count": 119,
   "id": "23529ad5",
   "metadata": {},
   "outputs": [
    {
     "data": {
      "text/plain": [
       "67311.1680930546"
      ]
     },
     "execution_count": 119,
     "metadata": {},
     "output_type": "execute_result"
    }
   ],
   "source": [
    "df3.Salary.mean()"
   ]
  },
  {
   "cell_type": "code",
   "execution_count": 120,
   "id": "fcb1b668",
   "metadata": {
    "scrolled": true
   },
   "outputs": [
    {
     "data": {
      "text/plain": [
       "220450.0"
      ]
     },
     "execution_count": 120,
     "metadata": {},
     "output_type": "execute_result"
    }
   ],
   "source": [
    "df3.Salary.max()"
   ]
  },
  {
   "cell_type": "code",
   "execution_count": 121,
   "id": "a9b00675",
   "metadata": {},
   "outputs": [
    {
     "data": {
      "text/plain": [
       "45046.0"
      ]
     },
     "execution_count": 121,
     "metadata": {},
     "output_type": "execute_result"
    }
   ],
   "source": [
    "df3.Salary.min()"
   ]
  },
  {
   "cell_type": "code",
   "execution_count": 122,
   "id": "a77d9941",
   "metadata": {},
   "outputs": [
    {
     "data": {
      "text/plain": [
       "<AxesSubplot: >"
      ]
     },
     "execution_count": 122,
     "metadata": {},
     "output_type": "execute_result"
    },
    {
     "data": {
      "image/png": "[encoded data removed]",
      "text/plain": [
       "<Figure size 640x480 with 1 Axes>"
      ]
     },
     "metadata": {},
     "output_type": "display_data"
    }
   ],
   "source": [
    "sns.boxplot(df3.Salary)"
   ]
  },
  {
   "cell_type": "code",
   "execution_count": 123,
   "id": "e23c6467",
   "metadata": {},
   "outputs": [],
   "source": [
    "df3.Salary.fillna(df3.Salary.mean(),inplace=True)"
   ]
  },
  {
   "cell_type": "code",
   "execution_count": 124,
   "id": "b6e76184",
   "metadata": {},
   "outputs": [
    {
     "data": {
      "text/plain": [
       "0"
      ]
     },
     "execution_count": 124,
     "metadata": {},
     "output_type": "execute_result"
    }
   ],
   "source": [
    "df3.Salary.isna().sum()"
   ]
  },
  {
   "cell_type": "code",
   "execution_count": null,
   "id": "1356bbfd",
   "metadata": {},
   "outputs": [],
   "source": [
    "df3.isna().sum()"
   ]
  },
  {
   "cell_type": "code",
   "execution_count": null,
   "id": "0a5eb69f",
   "metadata": {},
   "outputs": [],
   "source": []
  },
  {
   "cell_type": "code",
   "execution_count": null,
   "id": "769ccb4e",
   "metadata": {},
   "outputs": [],
   "source": []
  },
  {
   "cell_type": "code",
   "execution_count": null,
   "id": "601840ae",
   "metadata": {},
   "outputs": [],
   "source": []
  },
  {
   "cell_type": "code",
   "execution_count": null,
   "id": "8035f771",
   "metadata": {},
   "outputs": [],
   "source": []
  }
 ],
 "metadata": {
  "kernelspec": {
   "display_name": "Python 3 (ipykernel)",
   "language": "python",
   "name": "python3"
  },
  "language_info": {
   "codemirror_mode": {
    "name": "ipython",
    "version": 3
   },
   "file_extension": ".py",
   "mimetype": "text/x-python",
   "name": "python",
   "nbconvert_exporter": "python",
   "pygments_lexer": "ipython3",
   "version": "3.9.16"
  }
 },
 "nbformat": 4,
 "nbformat_minor": 5
}
